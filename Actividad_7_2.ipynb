{
  "nbformat": 4,
  "nbformat_minor": 0,
  "metadata": {
    "colab": {
      "provenance": [],
      "include_colab_link": true
    },
    "kernelspec": {
      "name": "python3",
      "display_name": "Python 3"
    },
    "language_info": {
      "name": "python"
    }
  },
  "cells": [
    {
      "cell_type": "markdown",
      "metadata": {
        "id": "view-in-github",
        "colab_type": "text"
      },
      "source": [
        "<a href=\"https://colab.research.google.com/github/FerHdez24/RegresionNoLineal_y_RegresionLogistica/blob/main/Actividad_7_2.ipynb\" target=\"_parent\"><img src=\"https://colab.research.google.com/assets/colab-badge.svg\" alt=\"Open In Colab\"/></a>"
      ]
    },
    {
      "cell_type": "markdown",
      "source": [
        "# **Actividad 7.2 (Regresión Logística)**\n",
        "\n",
        "### **Integrantes**: EQUIPO 6\n",
        "* Said Arturo Flores Nieto A01703477\n",
        "* José Samuel Torres Pacheco A01707617\n",
        "* María Fernanda Hernández Elizarraga A01706592\n",
        "* Paola Plascencia Rey A01707495\n"
      ],
      "metadata": {
        "id": "DokXf9bF2kpO"
      }
    },
    {
      "cell_type": "code",
      "source": [
        "import pandas as pd\n",
        "import numpy as np\n",
        "import matplotlib.pyplot as plt\n",
        "import scipy.special as special\n",
        "from scipy.optimize import curve_fit\n",
        "import seaborn as sns\n",
        "from sklearn.metrics import r2_score\n",
        "from sklearn.model_selection import train_test_split\n",
        "from sklearn.preprocessing import StandardScaler"
      ],
      "metadata": {
        "id": "_orzxli96PLD"
      },
      "execution_count": null,
      "outputs": []
    },
    {
      "cell_type": "code",
      "execution_count": null,
      "metadata": {
        "id": "tn7DwXb657GC"
      },
      "outputs": [],
      "source": [
        "gyc20 = pd.read_excel(\"Gastos y costos 20-23.xlsx\", sheet_name = '2020', index_col = 2, header = 5)\n",
        "gyc21 = pd.read_excel(\"Gastos y costos 20-23.xlsx\", sheet_name = '2021', index_col = 2, header = 3)\n",
        "gyc22 = pd.read_excel(\"Gastos y costos 20-23.xlsx\", sheet_name = '2022', index_col = 2, header = 3)\n",
        "gyc23 = pd.read_excel(\"Gastos y costos 20-23.xlsx\", sheet_name = '2023', index_col = 2, header = 3)"
      ]
    },
    {
      "cell_type": "markdown",
      "source": [
        "#**DATOS**"
      ],
      "metadata": {
        "id": "U-xjeRSCsJPw"
      }
    },
    {
      "cell_type": "code",
      "source": [
        "print(\"\\033[1m\" + \"\\n DATOS NULOS DE GASTOS Y COSTOS 2020: \" + str(len(gyc20)) + \"\\033[0m\")\n",
        "print(len(gyc20)-gyc20.count())\n",
        "print(\"\\033[1m\" + \"\\n DATOS NULOS DE GASTOS Y COSTOS 2021: \" + str(len(gyc21)) + \"\\033[0m\")\n",
        "print(len(gyc21)-gyc21.count())\n",
        "print(\"\\033[1m\" + \"\\n DATOS NULOS DE GASTOS Y COSTOS 2022: \" + str(len(gyc22)) + \"\\033[0m\")\n",
        "print(len(gyc22)-gyc22.count())\n",
        "print(\"\\033[1m\" + \"\\n DATOS NULOS DE GASTOS Y COSTOS 2023: \" + str(len(gyc23)) + \"\\033[0m\")\n",
        "print(len(gyc23)-gyc23.count())"
      ],
      "metadata": {
        "colab": {
          "base_uri": "https://localhost:8080/"
        },
        "id": "ck-oTjV76jkq",
        "outputId": "1918da4e-9575-44ed-f728-0d6b3f0c06db"
      },
      "execution_count": null,
      "outputs": [
        {
          "output_type": "stream",
          "name": "stdout",
          "text": [
            "\u001b[1m\n",
            " DATOS NULOS DE GASTOS Y COSTOS 2020: 3342\u001b[0m\n",
            "FECHA             0\n",
            "FOLIO           189\n",
            "RFC               0\n",
            "PROVEEDOR         0\n",
            "TIPO GASTO        0\n",
            "GASTO          2502\n",
            "DESCRIPCION       0\n",
            "TC              391\n",
            "IMPORTE          34\n",
            "IVA             268\n",
            "RET ISR           0\n",
            "RET IVA           0\n",
            "TOTAL MX          0\n",
            "TOTAL SAT         0\n",
            "TIPO              1\n",
            "STATUS            0\n",
            "POLIZA         3321\n",
            "Columna1          0\n",
            "dtype: int64\n",
            "\u001b[1m\n",
            " DATOS NULOS DE GASTOS Y COSTOS 2021: 3035\u001b[0m\n",
            "FECHA             0\n",
            "FOLIO           147\n",
            "RFC               0\n",
            "PROVEEDOR         0\n",
            "TIPO GASTO        0\n",
            "DESCRIPCION       0\n",
            "MP              654\n",
            "TC                0\n",
            "IMPORTE           0\n",
            "IVA               0\n",
            "RET ISR           0\n",
            "RET IVA           0\n",
            "TOTAL MX          0\n",
            "TOTAL SAT         0\n",
            "TIPO              0\n",
            "STATUS            0\n",
            "POLIZA         2372\n",
            "dtype: int64\n",
            "\u001b[1m\n",
            " DATOS NULOS DE GASTOS Y COSTOS 2022: 2577\u001b[0m\n",
            "Fecha             0\n",
            "Folio           102\n",
            "RFC               0\n",
            "Proveedor         0\n",
            "TIPO GASTO        0\n",
            "Descripción       0\n",
            "MP              553\n",
            "TC              636\n",
            "Importe           0\n",
            "IVA               0\n",
            "RET ISR           0\n",
            "RET IVA           0\n",
            "Otros          2577\n",
            "TOTAL MX          0\n",
            "TOTAL SAT         0\n",
            "Tipo              0\n",
            "Status            0\n",
            "Poliza          801\n",
            "dtype: int64\n",
            "\u001b[1m\n",
            " DATOS NULOS DE GASTOS Y COSTOS 2023: 397\u001b[0m\n",
            "Fecha            0\n",
            "Folio           13\n",
            "RFC              0\n",
            "Proveedor        0\n",
            "TIPO GASTO       8\n",
            "Descripción      0\n",
            "MP              71\n",
            "FP              71\n",
            "TC               0\n",
            "Importe          0\n",
            "IVA              0\n",
            "RET ISR          0\n",
            "RET IVA          0\n",
            "Otros          397\n",
            "TOTAL MX         0\n",
            "TOTAL SAT        0\n",
            "Tipo             0\n",
            "Status           0\n",
            "Poliza         115\n",
            "dtype: int64\n"
          ]
        }
      ]
    },
    {
      "cell_type": "code",
      "source": [
        "gyc20['FOLIO'] = gyc20['FOLIO'].fillna('--')\n",
        "gyc20['TC'] = gyc20['TC'].fillna('--')\n",
        "gyc20['POLIZA'] = gyc20['POLIZA'].fillna('--')\n",
        "gyc20['TIPO'] = gyc20['TIPO'].fillna('--')\n",
        "gyc20[['IMPORTE', 'IVA', 'GASTO']] = gyc20[['IMPORTE', 'IVA','GASTO']].fillna(0)\n",
        "\n",
        "gyc21 = gyc21.fillna('--')\n",
        "gyc22 = gyc22.fillna('--')\n",
        "gyc23 = gyc23.fillna('--')"
      ],
      "metadata": {
        "id": "UKmpJtzA6nI0"
      },
      "execution_count": null,
      "outputs": []
    },
    {
      "cell_type": "code",
      "source": [
        "print(\"\\033[1m\" + \"\\n DATOS NULOS DE GASTOS Y COSTOS 2020: \" + str(len(gyc20)) + \"\\033[0m\")\n",
        "print(len(gyc20)-gyc20.count())\n",
        "print(\"\\033[1m\" + \"\\n DATOS NULOS DE GASTOS Y COSTOS 2021: \" + str(len(gyc21)) + \"\\033[0m\")\n",
        "print(len(gyc21)-gyc21.count())\n",
        "print(\"\\033[1m\" + \"\\n DATOS NULOS DE GASTOS Y COSTOS 2022: \" + str(len(gyc22)) + \"\\033[0m\")\n",
        "print(len(gyc22)-gyc22.count())\n",
        "print(\"\\033[1m\" + \"\\n DATOS NULOS DE GASTOS Y COSTOS 2023: \" + str(len(gyc23)) + \"\\033[0m\")\n",
        "print(len(gyc23)-gyc23.count())"
      ],
      "metadata": {
        "colab": {
          "base_uri": "https://localhost:8080/"
        },
        "id": "pE8Yi90y6v1a",
        "outputId": "59dcea07-74ca-4e28-91da-d091dca5a8d1"
      },
      "execution_count": null,
      "outputs": [
        {
          "output_type": "stream",
          "name": "stdout",
          "text": [
            "\u001b[1m\n",
            " DATOS NULOS DE GASTOS Y COSTOS 2020: 3342\u001b[0m\n",
            "FECHA          0\n",
            "FOLIO          0\n",
            "RFC            0\n",
            "PROVEEDOR      0\n",
            "TIPO GASTO     0\n",
            "GASTO          0\n",
            "DESCRIPCION    0\n",
            "TC             0\n",
            "IMPORTE        0\n",
            "IVA            0\n",
            "RET ISR        0\n",
            "RET IVA        0\n",
            "TOTAL MX       0\n",
            "TOTAL SAT      0\n",
            "TIPO           0\n",
            "STATUS         0\n",
            "POLIZA         0\n",
            "Columna1       0\n",
            "dtype: int64\n",
            "\u001b[1m\n",
            " DATOS NULOS DE GASTOS Y COSTOS 2021: 3035\u001b[0m\n",
            "FECHA          0\n",
            "FOLIO          0\n",
            "RFC            0\n",
            "PROVEEDOR      0\n",
            "TIPO GASTO     0\n",
            "DESCRIPCION    0\n",
            "MP             0\n",
            "TC             0\n",
            "IMPORTE        0\n",
            "IVA            0\n",
            "RET ISR        0\n",
            "RET IVA        0\n",
            "TOTAL MX       0\n",
            "TOTAL SAT      0\n",
            "TIPO           0\n",
            "STATUS         0\n",
            "POLIZA         0\n",
            "dtype: int64\n",
            "\u001b[1m\n",
            " DATOS NULOS DE GASTOS Y COSTOS 2022: 2577\u001b[0m\n",
            "Fecha          0\n",
            "Folio          0\n",
            "RFC            0\n",
            "Proveedor      0\n",
            "TIPO GASTO     0\n",
            "Descripción    0\n",
            "MP             0\n",
            "TC             0\n",
            "Importe        0\n",
            "IVA            0\n",
            "RET ISR        0\n",
            "RET IVA        0\n",
            "Otros          0\n",
            "TOTAL MX       0\n",
            "TOTAL SAT      0\n",
            "Tipo           0\n",
            "Status         0\n",
            "Poliza         0\n",
            "dtype: int64\n",
            "\u001b[1m\n",
            " DATOS NULOS DE GASTOS Y COSTOS 2023: 397\u001b[0m\n",
            "Fecha          0\n",
            "Folio          0\n",
            "RFC            0\n",
            "Proveedor      0\n",
            "TIPO GASTO     0\n",
            "Descripción    0\n",
            "MP             0\n",
            "FP             0\n",
            "TC             0\n",
            "Importe        0\n",
            "IVA            0\n",
            "RET ISR        0\n",
            "RET IVA        0\n",
            "Otros          0\n",
            "TOTAL MX       0\n",
            "TOTAL SAT      0\n",
            "Tipo           0\n",
            "Status         0\n",
            "Poliza         0\n",
            "dtype: int64\n"
          ]
        }
      ]
    },
    {
      "cell_type": "markdown",
      "source": [
        "#**REPLACE**"
      ],
      "metadata": {
        "id": "Nl4hjprlsP5U"
      }
    },
    {
      "cell_type": "code",
      "source": [
        "gyc20['TIPO GASTO'].unique()"
      ],
      "metadata": {
        "colab": {
          "base_uri": "https://localhost:8080/"
        },
        "id": "6LqIsJ-amJXJ",
        "outputId": "a94b43ee-ebb4-4651-fa8a-54bf7cfc78e2"
      },
      "execution_count": null,
      "outputs": [
        {
          "output_type": "execute_result",
          "data": {
            "text/plain": [
              "array(['MAQUINARIA', 'COMISION BANCARIA', 'HONORARIOS CONTABLES',\n",
              "       'COMPRAS', 'MAQUILAS GIC', 'PAPELERIA', 'MTTO COMPUTO',\n",
              "       'ARRENDAMIENTO FINANCIERO', 'NO DEDUCIBLE', 'TELEFONO',\n",
              "       'MTTO LOCAL', 'PAQUETERIA', 'CAPACITACION', 'COMBUSTIBLE',\n",
              "       'REPARACIONES ELECTRICAS', 'ENERGIA ELECTRICA', 'DERECHOS',\n",
              "       'SEGUROS', 'CALIBRACIONES', 'TRANSPORTE', 'PEAJES', 'HOSPEDAJE',\n",
              "       'IMSS/INFONAVIT', 'COMISION VENTA', 'HONORARIOS ADMON',\n",
              "       'GERENCIA VTAS', 'VALES DESPENSA', 'UNIFORME', 'ALIMENTOS',\n",
              "       'ARRENDAMIENTO LOCAL', 'GERENCIA ADMON', 'SUSCRIPCIONES',\n",
              "       'MOBILIARIO', 'SUBCONTRATOS', 'MTTO TRANSPORTE', 'MEDICOS',\n",
              "       'PUBLICIDAD', 'FLETES', 'HONORARIOS PM', 'MENSAJERIA',\n",
              "       'ATENCION CLIENTES', 'SERV FUNERARIO '], dtype=object)"
            ]
          },
          "metadata": {},
          "execution_count": 515
        }
      ]
    },
    {
      "cell_type": "code",
      "source": [
        "gyc20['TIPO GASTO'] = gyc20['TIPO GASTO'].replace(['MAQUINARIA', 'COMISION BANCARIA', 'HONORARIOS CONTABLES',\n",
        "       'MAQUILAS GIC', 'PAPELERIA', 'MTTO COMPUTO',\n",
        "       'ARRENDAMIENTO FINANCIERO', 'NO DEDUCIBLE', 'TELEFONO',\n",
        "       'MTTO LOCAL', 'PAQUETERIA', 'CAPACITACION', 'COMBUSTIBLE',\n",
        "       'REPARACIONES ELECTRICAS', 'ENERGIA ELECTRICA', 'DERECHOS',\n",
        "       'SEGUROS', 'CALIBRACIONES', 'TRANSPORTE', 'PEAJES', 'HOSPEDAJE',\n",
        "       'IMSS/INFONAVIT', 'COMISION VENTA', 'HONORARIOS ADMON',\n",
        "       'GERENCIA VTAS', 'VALES DESPENSA', 'UNIFORME', 'ALIMENTOS',\n",
        "       'ARRENDAMIENTO LOCAL', 'GERENCIA ADMON', 'SUSCRIPCIONES',\n",
        "       'MOBILIARIO', 'SUBCONTRATOS', 'MTTO TRANSPORTE', 'MEDICOS',\n",
        "       'PUBLICIDAD', 'FLETES', 'HONORARIOS PM', 'MENSAJERIA',\n",
        "       'ATENCION CLIENTES', 'SERV FUNERARIO '], \"OTRAS COMPRAS\")"
      ],
      "metadata": {
        "id": "77x6FpgNnc_-"
      },
      "execution_count": null,
      "outputs": []
    },
    {
      "cell_type": "code",
      "source": [
        "gyc20['TIPO GASTO'].value_counts()"
      ],
      "metadata": {
        "colab": {
          "base_uri": "https://localhost:8080/"
        },
        "id": "Duq0qQZXlv4t",
        "outputId": "45180c24-2e0e-431e-a1d6-798073d7ebf1"
      },
      "execution_count": null,
      "outputs": [
        {
          "output_type": "execute_result",
          "data": {
            "text/plain": [
              "OTRAS COMPRAS    1871\n",
              "COMPRAS          1471\n",
              "Name: TIPO GASTO, dtype: int64"
            ]
          },
          "metadata": {},
          "execution_count": 517
        }
      ]
    },
    {
      "cell_type": "code",
      "source": [
        "gyc21['TIPO GASTO'].unique()"
      ],
      "metadata": {
        "colab": {
          "base_uri": "https://localhost:8080/"
        },
        "id": "nCgblm16n590",
        "outputId": "3e9c7fc1-b980-4557-dd6f-59b7b6cce693"
      },
      "execution_count": null,
      "outputs": [
        {
          "output_type": "execute_result",
          "data": {
            "text/plain": [
              "array(['COMISION BANCARIA', 'COMPRAS', 'ARRENDAMIENTO FINANCIERO',\n",
              "       'NO DEDUCIBLE', 'PAQUETERIA', 'MTTO COMPUTO', 'TELEFONO',\n",
              "       'ALIMENTOS', 'MTTO LOCAL', 'MONITOREO CAMARAS ADT',\n",
              "       'SUELDOS VENTAS', 'SUELDOS PRODUCCION', 'HONORARIOS CONTABLES',\n",
              "       'GASOLINA', 'FLETES', 'PAPELERIA', 'MEDICOS', 'ENERGIA ELECTRICA',\n",
              "       'SUELDOS DIRECCION', 'CAPACITACION', 'SEGUROS', 'MAQUILAS',\n",
              "       'RENTA COPIADORA', 'GERENCIA ADMON', 'SUSCRIPCIONES',\n",
              "       'SANITIZACION', 'UNIFORME', 'DERECHOS', 'IMSS/INFONAVIT',\n",
              "       'TRANSPORTE', 'PEAJES', 'VALES DESPENSA', 'GERENCIA VTAS',\n",
              "       'MTTO MAQUINARIA', 'CALIBRACIONES', 'MENSAJERIA', 'MAQUILAS GIC',\n",
              "       'MTTO TRANSPORTE', 'HONORARIOS PF', 'COMPRAS ', 'HONORARIOS PM',\n",
              "       'MAQUINARIA', 'ARRENDAMIENTO LOCAL', 'HONORARIOS JURIDICOS',\n",
              "       'COMISION MIXTA', 'HOSPEDAJE', 'PUBLICIDAD', 'FLETE', 'BOTIQUIN',\n",
              "       'RENTA OFICINA ', 'GASTOS IMPORTACION ', 'COMPRA COMPUTADORA ',\n",
              "       'HOSPEDAJE ', 'COMBUSTIBLE ', 'COMPRA TABLET ', 'MTTO OFICINA '],\n",
              "      dtype=object)"
            ]
          },
          "metadata": {},
          "execution_count": 518
        }
      ]
    },
    {
      "cell_type": "code",
      "source": [
        "gyc21['TIPO GASTO'] = gyc21['TIPO GASTO'].replace(['COMPRAS '], \"COMPRAS\")\n",
        "gyc21['TIPO GASTO'] = gyc21['TIPO GASTO'].replace(['COMISION BANCARIA', 'ARRENDAMIENTO FINANCIERO',\n",
        "       'NO DEDUCIBLE', 'PAQUETERIA', 'MTTO COMPUTO', 'TELEFONO',\n",
        "       'ALIMENTOS', 'MTTO LOCAL', 'MONITOREO CAMARAS ADT',\n",
        "       'SUELDOS VENTAS', 'SUELDOS PRODUCCION', 'HONORARIOS CONTABLES',\n",
        "       'GASOLINA', 'FLETES', 'PAPELERIA', 'MEDICOS', 'ENERGIA ELECTRICA',\n",
        "       'SUELDOS DIRECCION', 'CAPACITACION', 'SEGUROS', 'MAQUILAS',\n",
        "       'RENTA COPIADORA', 'GERENCIA ADMON', 'SUSCRIPCIONES',\n",
        "       'SANITIZACION', 'UNIFORME', 'DERECHOS', 'IMSS/INFONAVIT',\n",
        "       'TRANSPORTE', 'PEAJES', 'VALES DESPENSA', 'GERENCIA VTAS',\n",
        "       'MTTO MAQUINARIA', 'CALIBRACIONES', 'MENSAJERIA', 'MAQUILAS GIC',\n",
        "       'MTTO TRANSPORTE', 'HONORARIOS PF', 'HONORARIOS PM',\n",
        "       'MAQUINARIA', 'ARRENDAMIENTO LOCAL', 'HONORARIOS JURIDICOS',\n",
        "       'COMISION MIXTA', 'HOSPEDAJE', 'PUBLICIDAD', 'FLETE', 'BOTIQUIN',\n",
        "       'RENTA OFICINA ', 'GASTOS IMPORTACION ', 'COMPRA COMPUTADORA ',\n",
        "       'HOSPEDAJE ', 'COMBUSTIBLE ', 'COMPRA TABLET ', 'MTTO OFICINA '], \"OTRAS COMPRAS\")"
      ],
      "metadata": {
        "id": "OfjCn-b4ngFo"
      },
      "execution_count": null,
      "outputs": []
    },
    {
      "cell_type": "code",
      "source": [
        "gyc21['TIPO GASTO'].value_counts()"
      ],
      "metadata": {
        "colab": {
          "base_uri": "https://localhost:8080/"
        },
        "id": "6BZMJGVfl1xu",
        "outputId": "40c05228-65c8-4e9f-bee2-b1a5bd03fbb1"
      },
      "execution_count": null,
      "outputs": [
        {
          "output_type": "execute_result",
          "data": {
            "text/plain": [
              "COMPRAS          1531\n",
              "OTRAS COMPRAS    1504\n",
              "Name: TIPO GASTO, dtype: int64"
            ]
          },
          "metadata": {},
          "execution_count": 520
        }
      ]
    },
    {
      "cell_type": "code",
      "source": [
        "gyc22['TIPO GASTO'].unique()"
      ],
      "metadata": {
        "colab": {
          "base_uri": "https://localhost:8080/"
        },
        "id": "_5HQ3Lk-oHHR",
        "outputId": "f2c84025-47e5-4c70-d5a4-df93b963ac43"
      },
      "execution_count": null,
      "outputs": [
        {
          "output_type": "execute_result",
          "data": {
            "text/plain": [
              "array(['ARRENDAMIENTO FINANCIERO', 'COMISION BANCARIA', 'COMPRAS',\n",
              "       'MTTO COMPUTO', 'ALIMENTOS', 'NO DEDUCIBLE',\n",
              "       'HONORARIOS CONTABLES', 'CAPACITACION', 'HONORARIOS JURIDICOS',\n",
              "       'COMISION MIXTA', 'GASOLINA', 'MONITOREO CAMARAS ADT',\n",
              "       'ARRENDAMIENTO LOCAL', 'MEDICOS', 'GASTOS IMPORTACION ',\n",
              "       'RENTA COPIADORA', 'MTTO MAQUINARIA', 'TELEFONO', 'DERECHOS',\n",
              "       'SUELDOS DIRECCION', 'SUSCRIPCIONES', 'SEGUROS',\n",
              "       'ENERGIA ELECTRICA', 'MTTO OFICINA ', 'GERENCIA ADMON',\n",
              "       'MTTO LOCAL', 'INSTALACION ELECTRICA', 'PAPELERIA', 'PAQUETERIA',\n",
              "       'HOSPEDAJE', 'IMSS/INFONAVIT', 'MENSAJERIA', 'MAQUINARIA',\n",
              "       'SUBCONTRATOS', 'CASETAS', 'PEAJES', 'TRANSPORTE', 'PUBLICIDAD',\n",
              "       'UNIFORMES', 'ANTICIPO COMPRA AUTO', 'MTTO TRANSPORTE',\n",
              "       'COMPRA AUTO ', 'CREDITO ', 'ANTICIPO ', 'COMPRAS ',\n",
              "       'MTTO EQUIPO COMPUTO', 'HONORARIOS PM', 'CALIBRACIONES',\n",
              "       'RENTA AUTO', 'MAQUILAS', 'SANITIZACION', 'VALES DESPENSA',\n",
              "       'FLETE', 'VARIOS'], dtype=object)"
            ]
          },
          "metadata": {},
          "execution_count": 521
        }
      ]
    },
    {
      "cell_type": "code",
      "source": [
        "gyc22['TIPO GASTO'] = gyc22['TIPO GASTO'].replace(['COMPRAS '], \"COMPRAS\")\n",
        "gyc22['TIPO GASTO'] = gyc22['TIPO GASTO'].replace(['ARRENDAMIENTO FINANCIERO', 'COMISION BANCARIA',\n",
        "       'MTTO COMPUTO', 'ALIMENTOS', 'NO DEDUCIBLE',\n",
        "       'HONORARIOS CONTABLES', 'CAPACITACION', 'HONORARIOS JURIDICOS',\n",
        "       'COMISION MIXTA', 'GASOLINA', 'MONITOREO CAMARAS ADT',\n",
        "       'ARRENDAMIENTO LOCAL', 'MEDICOS', 'GASTOS IMPORTACION ',\n",
        "       'RENTA COPIADORA', 'MTTO MAQUINARIA', 'TELEFONO', 'DERECHOS',\n",
        "       'SUELDOS DIRECCION', 'SUSCRIPCIONES', 'SEGUROS',\n",
        "       'ENERGIA ELECTRICA', 'MTTO OFICINA ', 'GERENCIA ADMON',\n",
        "       'MTTO LOCAL', 'INSTALACION ELECTRICA', 'PAPELERIA', 'PAQUETERIA',\n",
        "       'HOSPEDAJE', 'IMSS/INFONAVIT', 'MENSAJERIA', 'MAQUINARIA',\n",
        "       'SUBCONTRATOS', 'CASETAS', 'PEAJES', 'TRANSPORTE', 'PUBLICIDAD',\n",
        "       'UNIFORMES', 'ANTICIPO COMPRA AUTO', 'MTTO TRANSPORTE',\n",
        "       'COMPRA AUTO ', 'CREDITO ', 'ANTICIPO ',\n",
        "       'MTTO EQUIPO COMPUTO', 'HONORARIOS PM', 'CALIBRACIONES',\n",
        "       'RENTA AUTO', 'MAQUILAS', 'SANITIZACION', 'VALES DESPENSA',\n",
        "       'FLETE', 'VARIOS'], \"OTRAS COMPRAS\")"
      ],
      "metadata": {
        "id": "MDIKUs4lnj0P"
      },
      "execution_count": null,
      "outputs": []
    },
    {
      "cell_type": "code",
      "source": [
        "gyc22['TIPO GASTO'].value_counts()"
      ],
      "metadata": {
        "colab": {
          "base_uri": "https://localhost:8080/"
        },
        "id": "U_Y_x2CGl1mC",
        "outputId": "06ad1cab-a587-41ae-99e9-1009d4da5f39"
      },
      "execution_count": null,
      "outputs": [
        {
          "output_type": "execute_result",
          "data": {
            "text/plain": [
              "OTRAS COMPRAS    1363\n",
              "COMPRAS          1214\n",
              "Name: TIPO GASTO, dtype: int64"
            ]
          },
          "metadata": {},
          "execution_count": 523
        }
      ]
    },
    {
      "cell_type": "code",
      "source": [
        "gyc23['TIPO GASTO'].unique()"
      ],
      "metadata": {
        "colab": {
          "base_uri": "https://localhost:8080/"
        },
        "id": "2z33Blg8oSTx",
        "outputId": "e613f5da-5214-40ab-bbf1-a9783c910810"
      },
      "execution_count": null,
      "outputs": [
        {
          "output_type": "execute_result",
          "data": {
            "text/plain": [
              "array(['COMPRAS', 'ARRENDAMIENTO FINANCIERO', 'COMISION BANCARIA',\n",
              "       'CAPACITACION', 'SEGUROS', 'NO DEDUCIBLE', 'PUBLICIDAD',\n",
              "       'TELEFONO', 'MTTO COMPUTO', 'COMISION MIXTA', 'HONORARIOS PM',\n",
              "       'UNIFORMES', 'MONITOREO CAMARAS ADT', 'COMPRAS ', 'MENSAJERIA',\n",
              "       'HONORARIOS CONTABLES', 'PAQUETERIA', 'ALIMENTOS',\n",
              "       'MTTO TRANSPORTE', 'VARIOS', 'GERENCIA ADMON', 'DERECHOS',\n",
              "       'RENTA COPIADORA', 'SUSCRIPCIONES', 'GASOLINA', 'MTTO LOCAL',\n",
              "       'CREDITO ', 'MAQUINARIA', 'PAPELERIA', 'IMSS/INFONAVIT',\n",
              "       'SUELDOS DIRECCION', 'MTTO MAQUINARIA', 'VALES DESPENSA',\n",
              "       'MTTO OFICINA ', 'MTT OFICINA', '--', 'RENTA AUTO', 'FLETES'],\n",
              "      dtype=object)"
            ]
          },
          "metadata": {},
          "execution_count": 524
        }
      ]
    },
    {
      "cell_type": "code",
      "source": [
        "gyc23['TIPO GASTO'] = gyc23['TIPO GASTO'].replace(['COMPRAS '], \"COMPRAS\")\n",
        "gyc23['TIPO GASTO'] = gyc23['TIPO GASTO'].replace(['ARRENDAMIENTO FINANCIERO', 'COMISION BANCARIA',\n",
        "       'CAPACITACION', 'SEGUROS', 'NO DEDUCIBLE', 'PUBLICIDAD',\n",
        "       'TELEFONO', 'MTTO COMPUTO', 'COMISION MIXTA', 'HONORARIOS PM',\n",
        "       'UNIFORMES', 'MONITOREO CAMARAS ADT', 'MENSAJERIA',\n",
        "       'HONORARIOS CONTABLES', 'PAQUETERIA', 'ALIMENTOS',\n",
        "       'MTTO TRANSPORTE', 'VARIOS', 'GERENCIA ADMON', 'DERECHOS',\n",
        "       'RENTA COPIADORA', 'SUSCRIPCIONES', 'GASOLINA', 'MTTO LOCAL',\n",
        "       'CREDITO ', 'MAQUINARIA', 'PAPELERIA', 'IMSS/INFONAVIT',\n",
        "       'SUELDOS DIRECCION', 'MTTO MAQUINARIA', 'VALES DESPENSA',\n",
        "       'MTTO OFICINA ', 'MTT OFICINA', '--', 'RENTA AUTO', 'FLETES'], \"OTRAS COMPRAS\")"
      ],
      "metadata": {
        "id": "A_khR0BmUUpF"
      },
      "execution_count": null,
      "outputs": []
    },
    {
      "cell_type": "code",
      "source": [
        "gyc23['TIPO GASTO'].value_counts()"
      ],
      "metadata": {
        "colab": {
          "base_uri": "https://localhost:8080/"
        },
        "id": "Cz1tHhsnl1b1",
        "outputId": "2a56491a-ff02-4521-ea17-33d7ec652d65"
      },
      "execution_count": null,
      "outputs": [
        {
          "output_type": "execute_result",
          "data": {
            "text/plain": [
              "COMPRAS          205\n",
              "OTRAS COMPRAS    192\n",
              "Name: TIPO GASTO, dtype: int64"
            ]
          },
          "metadata": {},
          "execution_count": 526
        }
      ]
    },
    {
      "cell_type": "code",
      "source": [
        "pres = []\n",
        "exa = []\n",
        "sen = []\n",
        "nom= []"
      ],
      "metadata": {
        "id": "obQS6NuHpyXx"
      },
      "execution_count": null,
      "outputs": []
    },
    {
      "cell_type": "markdown",
      "source": [
        "#**2020**"
      ],
      "metadata": {
        "id": "z2qadGilZENW"
      }
    },
    {
      "cell_type": "code",
      "source": [
        "#Declaramos las variables dependientes e independientes para la regresión Logística\n",
        "Vars_Indep= gyc20[['TOTAL MX']]\n",
        "Var_Dep= gyc20['TIPO GASTO']"
      ],
      "metadata": {
        "id": "Rhgn2cqdXEc_"
      },
      "execution_count": null,
      "outputs": []
    },
    {
      "cell_type": "code",
      "source": [
        "Var_Dep.describe()"
      ],
      "metadata": {
        "colab": {
          "base_uri": "https://localhost:8080/"
        },
        "id": "zP80zH2SzXiq",
        "outputId": "f0929eea-946d-498b-c330-c147f4769cb5"
      },
      "execution_count": null,
      "outputs": [
        {
          "output_type": "execute_result",
          "data": {
            "text/plain": [
              "count              3342\n",
              "unique                2\n",
              "top       OTRAS COMPRAS\n",
              "freq               1871\n",
              "Name: TIPO GASTO, dtype: object"
            ]
          },
          "metadata": {},
          "execution_count": 529
        }
      ]
    },
    {
      "cell_type": "code",
      "source": [
        "#Redefinimos las variables \n",
        "X= Vars_Indep\n",
        "y= Var_Dep"
      ],
      "metadata": {
        "id": "xb6ar0DZZCgU"
      },
      "execution_count": null,
      "outputs": []
    },
    {
      "cell_type": "code",
      "source": [
        "#Dividimos el conjunto de datos en la parte de entrenamiento y prueba:\n",
        "X_train, X_test, y_train, y_test = train_test_split(X, y, test_size=0.3, random_state =21)"
      ],
      "metadata": {
        "id": "GNvZg3qHZI5Y"
      },
      "execution_count": null,
      "outputs": []
    },
    {
      "cell_type": "code",
      "source": [
        "#Se escalan todos los datos\n",
        "escalar = StandardScaler()"
      ],
      "metadata": {
        "id": "srN8sUANd07L"
      },
      "execution_count": null,
      "outputs": []
    },
    {
      "cell_type": "code",
      "source": [
        "#Para realizar el escalamiento de las variables “X” tanto de entrenamiento como de prueba, utilizaremos fit_transform\n",
        "X_train = escalar.fit_transform(X_train)\n",
        "X_test = escalar.transform(X_test)"
      ],
      "metadata": {
        "id": "mpqE9m2zd3fB"
      },
      "execution_count": null,
      "outputs": []
    },
    {
      "cell_type": "code",
      "source": [
        "#Definimos el algoritmo a utilizar\n",
        "from sklearn.linear_model import LogisticRegression\n",
        "algoritmo = LogisticRegression(class_weight='balanced')"
      ],
      "metadata": {
        "id": "FfJEi3Nfd57T"
      },
      "execution_count": null,
      "outputs": []
    },
    {
      "cell_type": "code",
      "source": [
        "#Entrenamos el modelo\n",
        "algoritmo.fit(X_train, y_train)"
      ],
      "metadata": {
        "colab": {
          "base_uri": "https://localhost:8080/",
          "height": 74
        },
        "id": "PkWWW7udd79h",
        "outputId": "2a3f64fc-4128-4ada-c494-bb500d164acb"
      },
      "execution_count": null,
      "outputs": [
        {
          "output_type": "execute_result",
          "data": {
            "text/plain": [
              "LogisticRegression(class_weight='balanced')"
            ],
            "text/html": [
              "<style>#sk-container-id-37 {color: black;background-color: white;}#sk-container-id-37 pre{padding: 0;}#sk-container-id-37 div.sk-toggleable {background-color: white;}#sk-container-id-37 label.sk-toggleable__label {cursor: pointer;display: block;width: 100%;margin-bottom: 0;padding: 0.3em;box-sizing: border-box;text-align: center;}#sk-container-id-37 label.sk-toggleable__label-arrow:before {content: \"▸\";float: left;margin-right: 0.25em;color: #696969;}#sk-container-id-37 label.sk-toggleable__label-arrow:hover:before {color: black;}#sk-container-id-37 div.sk-estimator:hover label.sk-toggleable__label-arrow:before {color: black;}#sk-container-id-37 div.sk-toggleable__content {max-height: 0;max-width: 0;overflow: hidden;text-align: left;background-color: #f0f8ff;}#sk-container-id-37 div.sk-toggleable__content pre {margin: 0.2em;color: black;border-radius: 0.25em;background-color: #f0f8ff;}#sk-container-id-37 input.sk-toggleable__control:checked~div.sk-toggleable__content {max-height: 200px;max-width: 100%;overflow: auto;}#sk-container-id-37 input.sk-toggleable__control:checked~label.sk-toggleable__label-arrow:before {content: \"▾\";}#sk-container-id-37 div.sk-estimator input.sk-toggleable__control:checked~label.sk-toggleable__label {background-color: #d4ebff;}#sk-container-id-37 div.sk-label input.sk-toggleable__control:checked~label.sk-toggleable__label {background-color: #d4ebff;}#sk-container-id-37 input.sk-hidden--visually {border: 0;clip: rect(1px 1px 1px 1px);clip: rect(1px, 1px, 1px, 1px);height: 1px;margin: -1px;overflow: hidden;padding: 0;position: absolute;width: 1px;}#sk-container-id-37 div.sk-estimator {font-family: monospace;background-color: #f0f8ff;border: 1px dotted black;border-radius: 0.25em;box-sizing: border-box;margin-bottom: 0.5em;}#sk-container-id-37 div.sk-estimator:hover {background-color: #d4ebff;}#sk-container-id-37 div.sk-parallel-item::after {content: \"\";width: 100%;border-bottom: 1px solid gray;flex-grow: 1;}#sk-container-id-37 div.sk-label:hover label.sk-toggleable__label {background-color: #d4ebff;}#sk-container-id-37 div.sk-serial::before {content: \"\";position: absolute;border-left: 1px solid gray;box-sizing: border-box;top: 0;bottom: 0;left: 50%;z-index: 0;}#sk-container-id-37 div.sk-serial {display: flex;flex-direction: column;align-items: center;background-color: white;padding-right: 0.2em;padding-left: 0.2em;position: relative;}#sk-container-id-37 div.sk-item {position: relative;z-index: 1;}#sk-container-id-37 div.sk-parallel {display: flex;align-items: stretch;justify-content: center;background-color: white;position: relative;}#sk-container-id-37 div.sk-item::before, #sk-container-id-37 div.sk-parallel-item::before {content: \"\";position: absolute;border-left: 1px solid gray;box-sizing: border-box;top: 0;bottom: 0;left: 50%;z-index: -1;}#sk-container-id-37 div.sk-parallel-item {display: flex;flex-direction: column;z-index: 1;position: relative;background-color: white;}#sk-container-id-37 div.sk-parallel-item:first-child::after {align-self: flex-end;width: 50%;}#sk-container-id-37 div.sk-parallel-item:last-child::after {align-self: flex-start;width: 50%;}#sk-container-id-37 div.sk-parallel-item:only-child::after {width: 0;}#sk-container-id-37 div.sk-dashed-wrapped {border: 1px dashed gray;margin: 0 0.4em 0.5em 0.4em;box-sizing: border-box;padding-bottom: 0.4em;background-color: white;}#sk-container-id-37 div.sk-label label {font-family: monospace;font-weight: bold;display: inline-block;line-height: 1.2em;}#sk-container-id-37 div.sk-label-container {text-align: center;}#sk-container-id-37 div.sk-container {/* jupyter's `normalize.less` sets `[hidden] { display: none; }` but bootstrap.min.css set `[hidden] { display: none !important; }` so we also need the `!important` here to be able to override the default hidden behavior on the sphinx rendered scikit-learn.org. See: https://github.com/scikit-learn/scikit-learn/issues/21755 */display: inline-block !important;position: relative;}#sk-container-id-37 div.sk-text-repr-fallback {display: none;}</style><div id=\"sk-container-id-37\" class=\"sk-top-container\"><div class=\"sk-text-repr-fallback\"><pre>LogisticRegression(class_weight=&#x27;balanced&#x27;)</pre><b>In a Jupyter environment, please rerun this cell to show the HTML representation or trust the notebook. <br />On GitHub, the HTML representation is unable to render, please try loading this page with nbviewer.org.</b></div><div class=\"sk-container\" hidden><div class=\"sk-item\"><div class=\"sk-estimator sk-toggleable\"><input class=\"sk-toggleable__control sk-hidden--visually\" id=\"sk-estimator-id-37\" type=\"checkbox\" checked><label for=\"sk-estimator-id-37\" class=\"sk-toggleable__label sk-toggleable__label-arrow\">LogisticRegression</label><div class=\"sk-toggleable__content\"><pre>LogisticRegression(class_weight=&#x27;balanced&#x27;)</pre></div></div></div></div></div>"
            ]
          },
          "metadata": {},
          "execution_count": 535
        }
      ]
    },
    {
      "cell_type": "code",
      "source": [
        "#Realizamos una predicción\n",
        "y_pred = algoritmo.predict(X_test) \n",
        "y_pred"
      ],
      "metadata": {
        "colab": {
          "base_uri": "https://localhost:8080/"
        },
        "id": "41qt3ZQud_HD",
        "outputId": "2a2a95b0-08a9-42af-e2d4-f667f9022492"
      },
      "execution_count": null,
      "outputs": [
        {
          "output_type": "execute_result",
          "data": {
            "text/plain": [
              "array(['COMPRAS', 'COMPRAS', 'OTRAS COMPRAS', ..., 'OTRAS COMPRAS',\n",
              "       'OTRAS COMPRAS', 'OTRAS COMPRAS'], dtype=object)"
            ]
          },
          "metadata": {},
          "execution_count": 536
        }
      ]
    },
    {
      "cell_type": "code",
      "source": [
        "#Verifico la matriz de Confusión\n",
        "from sklearn.metrics import confusion_matrix\n",
        "matriz = confusion_matrix(y_test, y_pred)\n",
        "print('Matriz de Confusión:')\n",
        "print(matriz)"
      ],
      "metadata": {
        "colab": {
          "base_uri": "https://localhost:8080/"
        },
        "id": "VcCW7LH-eBNM",
        "outputId": "9c83d9c1-2815-4944-817b-5d22113046f5"
      },
      "execution_count": null,
      "outputs": [
        {
          "output_type": "stream",
          "name": "stdout",
          "text": [
            "Matriz de Confusión:\n",
            "[[326 128]\n",
            " [412 137]]\n"
          ]
        }
      ]
    },
    {
      "cell_type": "code",
      "source": [
        "#Calculo la precisión del modelo\n",
        "from sklearn.metrics import precision_score\n",
        "\n",
        "precision = precision_score(y_test, y_pred, average=\"binary\", pos_label=\"COMPRAS\")\n",
        "print('Precisión del modelo:')\n",
        "print(precision)"
      ],
      "metadata": {
        "colab": {
          "base_uri": "https://localhost:8080/"
        },
        "id": "SFTT-Hd5eFHx",
        "outputId": "5f286c0c-01bf-48dd-a064-38108d3120ec"
      },
      "execution_count": null,
      "outputs": [
        {
          "output_type": "stream",
          "name": "stdout",
          "text": [
            "Precisión del modelo:\n",
            "0.44173441734417346\n"
          ]
        }
      ]
    },
    {
      "cell_type": "code",
      "source": [
        "#Calculo la exactitud del modelo\n",
        "from sklearn.metrics import accuracy_score\n",
        "\n",
        "exactitud = accuracy_score(y_test, y_pred)\n",
        "print('Exactitud del modelo:')\n",
        "print(exactitud)"
      ],
      "metadata": {
        "colab": {
          "base_uri": "https://localhost:8080/"
        },
        "id": "mOV_gWXde3IF",
        "outputId": "f03d0f60-a80f-4813-f87f-b1c28eca5361"
      },
      "execution_count": null,
      "outputs": [
        {
          "output_type": "stream",
          "name": "stdout",
          "text": [
            "Exactitud del modelo:\n",
            "0.46161515453639085\n"
          ]
        }
      ]
    },
    {
      "cell_type": "code",
      "source": [
        "#Calculo la sensibilidad del modelo\n",
        "from sklearn.metrics import recall_score\n",
        "\n",
        "sensibilidad = recall_score(y_test, y_pred, average=\"binary\", pos_label=\"COMPRAS\")\n",
        "print('Sensibilidad del modelo:')\n",
        "print(sensibilidad)"
      ],
      "metadata": {
        "colab": {
          "base_uri": "https://localhost:8080/"
        },
        "id": "8NsXEDq8fPUa",
        "outputId": "9c00fdad-7c47-4622-f2dd-9e8883b0010a"
      },
      "execution_count": null,
      "outputs": [
        {
          "output_type": "stream",
          "name": "stdout",
          "text": [
            "Sensibilidad del modelo:\n",
            "0.7180616740088106\n"
          ]
        }
      ]
    },
    {
      "cell_type": "code",
      "source": [
        "pres.append(precision)\n",
        "exa.append(exactitud)\n",
        "sen.append(sensibilidad)\n",
        "nom.append('2020')"
      ],
      "metadata": {
        "id": "ZHbUTGYYqD4p"
      },
      "execution_count": null,
      "outputs": []
    },
    {
      "cell_type": "markdown",
      "source": [
        "#**2021**"
      ],
      "metadata": {
        "id": "E8YiDvtYhA5S"
      }
    },
    {
      "cell_type": "code",
      "source": [
        "#Declaramos las variables dependientes e independientes para la regresión Logística\n",
        "Vars_Indep= gyc21[['TOTAL MX']]\n",
        "Var_Dep= gyc21['TIPO GASTO']"
      ],
      "metadata": {
        "id": "Q6UabXdohA5T"
      },
      "execution_count": null,
      "outputs": []
    },
    {
      "cell_type": "code",
      "source": [
        "Var_Dep.describe()"
      ],
      "metadata": {
        "colab": {
          "base_uri": "https://localhost:8080/"
        },
        "id": "LDR55Zt5zqOT",
        "outputId": "e33a2c95-8804-4eb9-eb31-47ca37348dc4"
      },
      "execution_count": null,
      "outputs": [
        {
          "output_type": "execute_result",
          "data": {
            "text/plain": [
              "count        3035\n",
              "unique          2\n",
              "top       COMPRAS\n",
              "freq         1531\n",
              "Name: TIPO GASTO, dtype: object"
            ]
          },
          "metadata": {},
          "execution_count": 543
        }
      ]
    },
    {
      "cell_type": "code",
      "source": [
        "#Redefinimos las variables \n",
        "X= Vars_Indep\n",
        "y= Var_Dep"
      ],
      "metadata": {
        "id": "vNR-0538hA5U"
      },
      "execution_count": null,
      "outputs": []
    },
    {
      "cell_type": "code",
      "source": [
        "#Dividimos el conjunto de datos en la parte de entrenamiento y prueba:\n",
        "X_train, X_test, y_train, y_test = train_test_split(X, y, test_size=0.3, random_state =21)"
      ],
      "metadata": {
        "id": "xwn0sSCXhA5V"
      },
      "execution_count": null,
      "outputs": []
    },
    {
      "cell_type": "code",
      "source": [
        "#Se escalan todos los datos\n",
        "escalar = StandardScaler()"
      ],
      "metadata": {
        "id": "VLbJ47qBhA5V"
      },
      "execution_count": null,
      "outputs": []
    },
    {
      "cell_type": "code",
      "source": [
        "#Para realizar el escalamiento de las variables “X” tanto de entrenamiento como de prueba, utilizaremos fit_transform\n",
        "X_train = escalar.fit_transform(X_train)\n",
        "X_test = escalar.transform(X_test)"
      ],
      "metadata": {
        "id": "eJDNEIqShA5W"
      },
      "execution_count": null,
      "outputs": []
    },
    {
      "cell_type": "code",
      "source": [
        "#Definimos el algoritmo a utilizar\n",
        "from sklearn.linear_model import LogisticRegression\n",
        "algoritmo = LogisticRegression(class_weight='balanced')"
      ],
      "metadata": {
        "id": "A6wBJYGthA5W"
      },
      "execution_count": null,
      "outputs": []
    },
    {
      "cell_type": "code",
      "source": [
        "#Entrenamos el modelo\n",
        "algoritmo.fit(X_train, y_train)"
      ],
      "metadata": {
        "colab": {
          "base_uri": "https://localhost:8080/",
          "height": 74
        },
        "outputId": "d57aec22-6b30-4a41-c198-5f80d28a9f01",
        "id": "Q8Z1EefjhA5W"
      },
      "execution_count": null,
      "outputs": [
        {
          "output_type": "execute_result",
          "data": {
            "text/plain": [
              "LogisticRegression(class_weight='balanced')"
            ],
            "text/html": [
              "<style>#sk-container-id-38 {color: black;background-color: white;}#sk-container-id-38 pre{padding: 0;}#sk-container-id-38 div.sk-toggleable {background-color: white;}#sk-container-id-38 label.sk-toggleable__label {cursor: pointer;display: block;width: 100%;margin-bottom: 0;padding: 0.3em;box-sizing: border-box;text-align: center;}#sk-container-id-38 label.sk-toggleable__label-arrow:before {content: \"▸\";float: left;margin-right: 0.25em;color: #696969;}#sk-container-id-38 label.sk-toggleable__label-arrow:hover:before {color: black;}#sk-container-id-38 div.sk-estimator:hover label.sk-toggleable__label-arrow:before {color: black;}#sk-container-id-38 div.sk-toggleable__content {max-height: 0;max-width: 0;overflow: hidden;text-align: left;background-color: #f0f8ff;}#sk-container-id-38 div.sk-toggleable__content pre {margin: 0.2em;color: black;border-radius: 0.25em;background-color: #f0f8ff;}#sk-container-id-38 input.sk-toggleable__control:checked~div.sk-toggleable__content {max-height: 200px;max-width: 100%;overflow: auto;}#sk-container-id-38 input.sk-toggleable__control:checked~label.sk-toggleable__label-arrow:before {content: \"▾\";}#sk-container-id-38 div.sk-estimator input.sk-toggleable__control:checked~label.sk-toggleable__label {background-color: #d4ebff;}#sk-container-id-38 div.sk-label input.sk-toggleable__control:checked~label.sk-toggleable__label {background-color: #d4ebff;}#sk-container-id-38 input.sk-hidden--visually {border: 0;clip: rect(1px 1px 1px 1px);clip: rect(1px, 1px, 1px, 1px);height: 1px;margin: -1px;overflow: hidden;padding: 0;position: absolute;width: 1px;}#sk-container-id-38 div.sk-estimator {font-family: monospace;background-color: #f0f8ff;border: 1px dotted black;border-radius: 0.25em;box-sizing: border-box;margin-bottom: 0.5em;}#sk-container-id-38 div.sk-estimator:hover {background-color: #d4ebff;}#sk-container-id-38 div.sk-parallel-item::after {content: \"\";width: 100%;border-bottom: 1px solid gray;flex-grow: 1;}#sk-container-id-38 div.sk-label:hover label.sk-toggleable__label {background-color: #d4ebff;}#sk-container-id-38 div.sk-serial::before {content: \"\";position: absolute;border-left: 1px solid gray;box-sizing: border-box;top: 0;bottom: 0;left: 50%;z-index: 0;}#sk-container-id-38 div.sk-serial {display: flex;flex-direction: column;align-items: center;background-color: white;padding-right: 0.2em;padding-left: 0.2em;position: relative;}#sk-container-id-38 div.sk-item {position: relative;z-index: 1;}#sk-container-id-38 div.sk-parallel {display: flex;align-items: stretch;justify-content: center;background-color: white;position: relative;}#sk-container-id-38 div.sk-item::before, #sk-container-id-38 div.sk-parallel-item::before {content: \"\";position: absolute;border-left: 1px solid gray;box-sizing: border-box;top: 0;bottom: 0;left: 50%;z-index: -1;}#sk-container-id-38 div.sk-parallel-item {display: flex;flex-direction: column;z-index: 1;position: relative;background-color: white;}#sk-container-id-38 div.sk-parallel-item:first-child::after {align-self: flex-end;width: 50%;}#sk-container-id-38 div.sk-parallel-item:last-child::after {align-self: flex-start;width: 50%;}#sk-container-id-38 div.sk-parallel-item:only-child::after {width: 0;}#sk-container-id-38 div.sk-dashed-wrapped {border: 1px dashed gray;margin: 0 0.4em 0.5em 0.4em;box-sizing: border-box;padding-bottom: 0.4em;background-color: white;}#sk-container-id-38 div.sk-label label {font-family: monospace;font-weight: bold;display: inline-block;line-height: 1.2em;}#sk-container-id-38 div.sk-label-container {text-align: center;}#sk-container-id-38 div.sk-container {/* jupyter's `normalize.less` sets `[hidden] { display: none; }` but bootstrap.min.css set `[hidden] { display: none !important; }` so we also need the `!important` here to be able to override the default hidden behavior on the sphinx rendered scikit-learn.org. See: https://github.com/scikit-learn/scikit-learn/issues/21755 */display: inline-block !important;position: relative;}#sk-container-id-38 div.sk-text-repr-fallback {display: none;}</style><div id=\"sk-container-id-38\" class=\"sk-top-container\"><div class=\"sk-text-repr-fallback\"><pre>LogisticRegression(class_weight=&#x27;balanced&#x27;)</pre><b>In a Jupyter environment, please rerun this cell to show the HTML representation or trust the notebook. <br />On GitHub, the HTML representation is unable to render, please try loading this page with nbviewer.org.</b></div><div class=\"sk-container\" hidden><div class=\"sk-item\"><div class=\"sk-estimator sk-toggleable\"><input class=\"sk-toggleable__control sk-hidden--visually\" id=\"sk-estimator-id-38\" type=\"checkbox\" checked><label for=\"sk-estimator-id-38\" class=\"sk-toggleable__label sk-toggleable__label-arrow\">LogisticRegression</label><div class=\"sk-toggleable__content\"><pre>LogisticRegression(class_weight=&#x27;balanced&#x27;)</pre></div></div></div></div></div>"
            ]
          },
          "metadata": {},
          "execution_count": 549
        }
      ]
    },
    {
      "cell_type": "code",
      "source": [
        "#Realizamos una predicción\n",
        "y_pred = algoritmo.predict(X_test) \n",
        "y_pred"
      ],
      "metadata": {
        "colab": {
          "base_uri": "https://localhost:8080/"
        },
        "outputId": "0557d59b-60a7-431f-c8c1-82cffa7ebb32",
        "id": "0WnzgskChA5X"
      },
      "execution_count": null,
      "outputs": [
        {
          "output_type": "execute_result",
          "data": {
            "text/plain": [
              "array(['COMPRAS', 'OTRAS COMPRAS', 'OTRAS COMPRAS', 'COMPRAS', 'COMPRAS',\n",
              "       'COMPRAS', 'COMPRAS', 'COMPRAS', 'COMPRAS', 'COMPRAS', 'COMPRAS',\n",
              "       'COMPRAS', 'COMPRAS', 'COMPRAS', 'COMPRAS', 'OTRAS COMPRAS',\n",
              "       'COMPRAS', 'COMPRAS', 'COMPRAS', 'COMPRAS', 'COMPRAS',\n",
              "       'OTRAS COMPRAS', 'COMPRAS', 'COMPRAS', 'OTRAS COMPRAS', 'COMPRAS',\n",
              "       'COMPRAS', 'COMPRAS', 'COMPRAS', 'OTRAS COMPRAS', 'COMPRAS',\n",
              "       'OTRAS COMPRAS', 'COMPRAS', 'COMPRAS', 'COMPRAS', 'COMPRAS',\n",
              "       'COMPRAS', 'OTRAS COMPRAS', 'COMPRAS', 'COMPRAS', 'OTRAS COMPRAS',\n",
              "       'COMPRAS', 'OTRAS COMPRAS', 'OTRAS COMPRAS', 'COMPRAS', 'COMPRAS',\n",
              "       'COMPRAS', 'COMPRAS', 'COMPRAS', 'COMPRAS', 'COMPRAS', 'COMPRAS',\n",
              "       'COMPRAS', 'COMPRAS', 'COMPRAS', 'COMPRAS', 'COMPRAS', 'COMPRAS',\n",
              "       'COMPRAS', 'COMPRAS', 'COMPRAS', 'COMPRAS', 'COMPRAS',\n",
              "       'OTRAS COMPRAS', 'COMPRAS', 'COMPRAS', 'OTRAS COMPRAS', 'COMPRAS',\n",
              "       'COMPRAS', 'COMPRAS', 'COMPRAS', 'OTRAS COMPRAS', 'COMPRAS',\n",
              "       'OTRAS COMPRAS', 'OTRAS COMPRAS', 'COMPRAS', 'COMPRAS',\n",
              "       'OTRAS COMPRAS', 'COMPRAS', 'COMPRAS', 'COMPRAS', 'COMPRAS',\n",
              "       'OTRAS COMPRAS', 'COMPRAS', 'COMPRAS', 'COMPRAS', 'OTRAS COMPRAS',\n",
              "       'OTRAS COMPRAS', 'COMPRAS', 'OTRAS COMPRAS', 'COMPRAS', 'COMPRAS',\n",
              "       'OTRAS COMPRAS', 'OTRAS COMPRAS', 'COMPRAS', 'COMPRAS', 'COMPRAS',\n",
              "       'COMPRAS', 'COMPRAS', 'COMPRAS', 'COMPRAS', 'COMPRAS', 'COMPRAS',\n",
              "       'COMPRAS', 'OTRAS COMPRAS', 'COMPRAS', 'COMPRAS', 'OTRAS COMPRAS',\n",
              "       'COMPRAS', 'COMPRAS', 'OTRAS COMPRAS', 'OTRAS COMPRAS', 'COMPRAS',\n",
              "       'COMPRAS', 'OTRAS COMPRAS', 'COMPRAS', 'OTRAS COMPRAS', 'COMPRAS',\n",
              "       'COMPRAS', 'COMPRAS', 'OTRAS COMPRAS', 'COMPRAS', 'COMPRAS',\n",
              "       'COMPRAS', 'COMPRAS', 'OTRAS COMPRAS', 'COMPRAS', 'OTRAS COMPRAS',\n",
              "       'OTRAS COMPRAS', 'COMPRAS', 'OTRAS COMPRAS', 'OTRAS COMPRAS',\n",
              "       'COMPRAS', 'COMPRAS', 'COMPRAS', 'COMPRAS', 'COMPRAS', 'COMPRAS',\n",
              "       'COMPRAS', 'COMPRAS', 'COMPRAS', 'COMPRAS', 'COMPRAS', 'COMPRAS',\n",
              "       'OTRAS COMPRAS', 'COMPRAS', 'COMPRAS', 'COMPRAS', 'COMPRAS',\n",
              "       'COMPRAS', 'COMPRAS', 'COMPRAS', 'COMPRAS', 'COMPRAS',\n",
              "       'OTRAS COMPRAS', 'COMPRAS', 'COMPRAS', 'COMPRAS', 'COMPRAS',\n",
              "       'COMPRAS', 'COMPRAS', 'OTRAS COMPRAS', 'OTRAS COMPRAS', 'COMPRAS',\n",
              "       'OTRAS COMPRAS', 'COMPRAS', 'COMPRAS', 'COMPRAS', 'COMPRAS',\n",
              "       'OTRAS COMPRAS', 'COMPRAS', 'COMPRAS', 'OTRAS COMPRAS', 'COMPRAS',\n",
              "       'OTRAS COMPRAS', 'COMPRAS', 'COMPRAS', 'OTRAS COMPRAS', 'COMPRAS',\n",
              "       'COMPRAS', 'OTRAS COMPRAS', 'COMPRAS', 'OTRAS COMPRAS',\n",
              "       'OTRAS COMPRAS', 'COMPRAS', 'COMPRAS', 'COMPRAS', 'COMPRAS',\n",
              "       'OTRAS COMPRAS', 'COMPRAS', 'COMPRAS', 'OTRAS COMPRAS', 'COMPRAS',\n",
              "       'COMPRAS', 'OTRAS COMPRAS', 'COMPRAS', 'COMPRAS', 'COMPRAS',\n",
              "       'COMPRAS', 'COMPRAS', 'OTRAS COMPRAS', 'COMPRAS', 'COMPRAS',\n",
              "       'COMPRAS', 'OTRAS COMPRAS', 'OTRAS COMPRAS', 'COMPRAS',\n",
              "       'OTRAS COMPRAS', 'COMPRAS', 'OTRAS COMPRAS', 'COMPRAS',\n",
              "       'OTRAS COMPRAS', 'OTRAS COMPRAS', 'COMPRAS', 'OTRAS COMPRAS',\n",
              "       'COMPRAS', 'COMPRAS', 'COMPRAS', 'COMPRAS', 'OTRAS COMPRAS',\n",
              "       'COMPRAS', 'COMPRAS', 'COMPRAS', 'OTRAS COMPRAS', 'COMPRAS',\n",
              "       'OTRAS COMPRAS', 'COMPRAS', 'COMPRAS', 'COMPRAS', 'OTRAS COMPRAS',\n",
              "       'OTRAS COMPRAS', 'COMPRAS', 'COMPRAS', 'OTRAS COMPRAS', 'COMPRAS',\n",
              "       'OTRAS COMPRAS', 'OTRAS COMPRAS', 'COMPRAS', 'COMPRAS', 'COMPRAS',\n",
              "       'COMPRAS', 'COMPRAS', 'COMPRAS', 'COMPRAS', 'COMPRAS', 'COMPRAS',\n",
              "       'COMPRAS', 'OTRAS COMPRAS', 'COMPRAS', 'COMPRAS', 'COMPRAS',\n",
              "       'OTRAS COMPRAS', 'COMPRAS', 'OTRAS COMPRAS', 'OTRAS COMPRAS',\n",
              "       'OTRAS COMPRAS', 'OTRAS COMPRAS', 'COMPRAS', 'COMPRAS',\n",
              "       'OTRAS COMPRAS', 'COMPRAS', 'COMPRAS', 'COMPRAS', 'COMPRAS',\n",
              "       'COMPRAS', 'OTRAS COMPRAS', 'COMPRAS', 'COMPRAS', 'COMPRAS',\n",
              "       'COMPRAS', 'OTRAS COMPRAS', 'COMPRAS', 'OTRAS COMPRAS', 'COMPRAS',\n",
              "       'COMPRAS', 'OTRAS COMPRAS', 'COMPRAS', 'OTRAS COMPRAS', 'COMPRAS',\n",
              "       'COMPRAS', 'COMPRAS', 'OTRAS COMPRAS', 'COMPRAS', 'COMPRAS',\n",
              "       'COMPRAS', 'OTRAS COMPRAS', 'COMPRAS', 'COMPRAS', 'COMPRAS',\n",
              "       'COMPRAS', 'COMPRAS', 'COMPRAS', 'COMPRAS', 'COMPRAS', 'COMPRAS',\n",
              "       'OTRAS COMPRAS', 'OTRAS COMPRAS', 'COMPRAS', 'COMPRAS', 'COMPRAS',\n",
              "       'COMPRAS', 'COMPRAS', 'COMPRAS', 'COMPRAS', 'COMPRAS', 'COMPRAS',\n",
              "       'COMPRAS', 'COMPRAS', 'COMPRAS', 'COMPRAS', 'COMPRAS', 'COMPRAS',\n",
              "       'COMPRAS', 'COMPRAS', 'OTRAS COMPRAS', 'OTRAS COMPRAS', 'COMPRAS',\n",
              "       'COMPRAS', 'COMPRAS', 'COMPRAS', 'OTRAS COMPRAS', 'COMPRAS',\n",
              "       'COMPRAS', 'COMPRAS', 'COMPRAS', 'COMPRAS', 'OTRAS COMPRAS',\n",
              "       'OTRAS COMPRAS', 'COMPRAS', 'OTRAS COMPRAS', 'OTRAS COMPRAS',\n",
              "       'OTRAS COMPRAS', 'COMPRAS', 'OTRAS COMPRAS', 'OTRAS COMPRAS',\n",
              "       'COMPRAS', 'COMPRAS', 'OTRAS COMPRAS', 'COMPRAS', 'COMPRAS',\n",
              "       'OTRAS COMPRAS', 'COMPRAS', 'OTRAS COMPRAS', 'COMPRAS', 'COMPRAS',\n",
              "       'COMPRAS', 'OTRAS COMPRAS', 'COMPRAS', 'COMPRAS', 'COMPRAS',\n",
              "       'COMPRAS', 'OTRAS COMPRAS', 'COMPRAS', 'COMPRAS', 'COMPRAS',\n",
              "       'COMPRAS', 'COMPRAS', 'COMPRAS', 'COMPRAS', 'OTRAS COMPRAS',\n",
              "       'COMPRAS', 'COMPRAS', 'OTRAS COMPRAS', 'COMPRAS', 'COMPRAS',\n",
              "       'OTRAS COMPRAS', 'OTRAS COMPRAS', 'COMPRAS', 'OTRAS COMPRAS',\n",
              "       'COMPRAS', 'COMPRAS', 'COMPRAS', 'COMPRAS', 'OTRAS COMPRAS',\n",
              "       'OTRAS COMPRAS', 'COMPRAS', 'OTRAS COMPRAS', 'OTRAS COMPRAS',\n",
              "       'COMPRAS', 'COMPRAS', 'COMPRAS', 'COMPRAS', 'COMPRAS', 'COMPRAS',\n",
              "       'COMPRAS', 'COMPRAS', 'COMPRAS', 'COMPRAS', 'COMPRAS', 'COMPRAS',\n",
              "       'COMPRAS', 'COMPRAS', 'OTRAS COMPRAS', 'COMPRAS', 'OTRAS COMPRAS',\n",
              "       'COMPRAS', 'COMPRAS', 'COMPRAS', 'OTRAS COMPRAS', 'OTRAS COMPRAS',\n",
              "       'COMPRAS', 'COMPRAS', 'COMPRAS', 'COMPRAS', 'OTRAS COMPRAS',\n",
              "       'COMPRAS', 'COMPRAS', 'COMPRAS', 'COMPRAS', 'COMPRAS',\n",
              "       'OTRAS COMPRAS', 'COMPRAS', 'OTRAS COMPRAS', 'COMPRAS',\n",
              "       'OTRAS COMPRAS', 'COMPRAS', 'COMPRAS', 'COMPRAS', 'OTRAS COMPRAS',\n",
              "       'COMPRAS', 'COMPRAS', 'COMPRAS', 'COMPRAS', 'COMPRAS', 'COMPRAS',\n",
              "       'COMPRAS', 'COMPRAS', 'COMPRAS', 'COMPRAS', 'COMPRAS', 'COMPRAS',\n",
              "       'COMPRAS', 'COMPRAS', 'COMPRAS', 'COMPRAS', 'COMPRAS',\n",
              "       'OTRAS COMPRAS', 'OTRAS COMPRAS', 'COMPRAS', 'OTRAS COMPRAS',\n",
              "       'COMPRAS', 'COMPRAS', 'COMPRAS', 'OTRAS COMPRAS', 'COMPRAS',\n",
              "       'COMPRAS', 'COMPRAS', 'COMPRAS', 'COMPRAS', 'COMPRAS', 'COMPRAS',\n",
              "       'COMPRAS', 'COMPRAS', 'COMPRAS', 'OTRAS COMPRAS', 'COMPRAS',\n",
              "       'OTRAS COMPRAS', 'COMPRAS', 'COMPRAS', 'COMPRAS', 'OTRAS COMPRAS',\n",
              "       'OTRAS COMPRAS', 'COMPRAS', 'COMPRAS', 'COMPRAS', 'COMPRAS',\n",
              "       'OTRAS COMPRAS', 'COMPRAS', 'COMPRAS', 'COMPRAS', 'COMPRAS',\n",
              "       'COMPRAS', 'OTRAS COMPRAS', 'COMPRAS', 'OTRAS COMPRAS', 'COMPRAS',\n",
              "       'COMPRAS', 'OTRAS COMPRAS', 'COMPRAS', 'COMPRAS', 'COMPRAS',\n",
              "       'COMPRAS', 'COMPRAS', 'OTRAS COMPRAS', 'COMPRAS', 'COMPRAS',\n",
              "       'COMPRAS', 'OTRAS COMPRAS', 'COMPRAS', 'COMPRAS', 'COMPRAS',\n",
              "       'COMPRAS', 'COMPRAS', 'COMPRAS', 'OTRAS COMPRAS', 'OTRAS COMPRAS',\n",
              "       'COMPRAS', 'OTRAS COMPRAS', 'COMPRAS', 'COMPRAS', 'COMPRAS',\n",
              "       'OTRAS COMPRAS', 'COMPRAS', 'OTRAS COMPRAS', 'COMPRAS', 'COMPRAS',\n",
              "       'COMPRAS', 'COMPRAS', 'COMPRAS', 'COMPRAS', 'COMPRAS',\n",
              "       'OTRAS COMPRAS', 'COMPRAS', 'COMPRAS', 'OTRAS COMPRAS',\n",
              "       'OTRAS COMPRAS', 'COMPRAS', 'COMPRAS', 'COMPRAS', 'COMPRAS',\n",
              "       'OTRAS COMPRAS', 'OTRAS COMPRAS', 'COMPRAS', 'COMPRAS',\n",
              "       'OTRAS COMPRAS', 'COMPRAS', 'OTRAS COMPRAS', 'COMPRAS', 'COMPRAS',\n",
              "       'COMPRAS', 'COMPRAS', 'COMPRAS', 'COMPRAS', 'COMPRAS', 'COMPRAS',\n",
              "       'COMPRAS', 'COMPRAS', 'COMPRAS', 'COMPRAS', 'OTRAS COMPRAS',\n",
              "       'COMPRAS', 'COMPRAS', 'COMPRAS', 'OTRAS COMPRAS', 'COMPRAS',\n",
              "       'COMPRAS', 'COMPRAS', 'OTRAS COMPRAS', 'OTRAS COMPRAS', 'COMPRAS',\n",
              "       'COMPRAS', 'COMPRAS', 'OTRAS COMPRAS', 'COMPRAS', 'COMPRAS',\n",
              "       'COMPRAS', 'OTRAS COMPRAS', 'OTRAS COMPRAS', 'COMPRAS',\n",
              "       'OTRAS COMPRAS', 'OTRAS COMPRAS', 'COMPRAS', 'COMPRAS', 'COMPRAS',\n",
              "       'COMPRAS', 'COMPRAS', 'COMPRAS', 'COMPRAS', 'COMPRAS',\n",
              "       'OTRAS COMPRAS', 'COMPRAS', 'COMPRAS', 'COMPRAS', 'COMPRAS',\n",
              "       'COMPRAS', 'COMPRAS', 'OTRAS COMPRAS', 'COMPRAS', 'COMPRAS',\n",
              "       'COMPRAS', 'OTRAS COMPRAS', 'COMPRAS', 'OTRAS COMPRAS', 'COMPRAS',\n",
              "       'OTRAS COMPRAS', 'COMPRAS', 'OTRAS COMPRAS', 'COMPRAS', 'COMPRAS',\n",
              "       'COMPRAS', 'OTRAS COMPRAS', 'COMPRAS', 'COMPRAS', 'OTRAS COMPRAS',\n",
              "       'COMPRAS', 'OTRAS COMPRAS', 'COMPRAS', 'COMPRAS', 'OTRAS COMPRAS',\n",
              "       'COMPRAS', 'COMPRAS', 'COMPRAS', 'COMPRAS', 'OTRAS COMPRAS',\n",
              "       'COMPRAS', 'COMPRAS', 'COMPRAS', 'OTRAS COMPRAS', 'COMPRAS',\n",
              "       'COMPRAS', 'COMPRAS', 'OTRAS COMPRAS', 'COMPRAS', 'OTRAS COMPRAS',\n",
              "       'COMPRAS', 'COMPRAS', 'COMPRAS', 'OTRAS COMPRAS', 'OTRAS COMPRAS',\n",
              "       'COMPRAS', 'OTRAS COMPRAS', 'COMPRAS', 'COMPRAS', 'COMPRAS',\n",
              "       'COMPRAS', 'COMPRAS', 'COMPRAS', 'COMPRAS', 'COMPRAS',\n",
              "       'OTRAS COMPRAS', 'COMPRAS', 'COMPRAS', 'COMPRAS', 'COMPRAS',\n",
              "       'COMPRAS', 'OTRAS COMPRAS', 'COMPRAS', 'COMPRAS', 'COMPRAS',\n",
              "       'OTRAS COMPRAS', 'OTRAS COMPRAS', 'COMPRAS', 'OTRAS COMPRAS',\n",
              "       'OTRAS COMPRAS', 'COMPRAS', 'COMPRAS', 'COMPRAS', 'COMPRAS',\n",
              "       'OTRAS COMPRAS', 'COMPRAS', 'COMPRAS', 'OTRAS COMPRAS', 'COMPRAS',\n",
              "       'COMPRAS', 'COMPRAS', 'COMPRAS', 'COMPRAS', 'COMPRAS', 'COMPRAS',\n",
              "       'COMPRAS', 'COMPRAS', 'OTRAS COMPRAS', 'OTRAS COMPRAS', 'COMPRAS',\n",
              "       'OTRAS COMPRAS', 'OTRAS COMPRAS', 'COMPRAS', 'COMPRAS', 'COMPRAS',\n",
              "       'OTRAS COMPRAS', 'COMPRAS', 'COMPRAS', 'OTRAS COMPRAS',\n",
              "       'OTRAS COMPRAS', 'COMPRAS', 'OTRAS COMPRAS', 'COMPRAS', 'COMPRAS',\n",
              "       'COMPRAS', 'OTRAS COMPRAS', 'OTRAS COMPRAS', 'OTRAS COMPRAS',\n",
              "       'COMPRAS', 'COMPRAS', 'COMPRAS', 'COMPRAS', 'COMPRAS',\n",
              "       'OTRAS COMPRAS', 'OTRAS COMPRAS', 'COMPRAS', 'COMPRAS',\n",
              "       'OTRAS COMPRAS', 'COMPRAS', 'COMPRAS', 'OTRAS COMPRAS', 'COMPRAS',\n",
              "       'COMPRAS', 'COMPRAS', 'COMPRAS', 'COMPRAS', 'OTRAS COMPRAS',\n",
              "       'COMPRAS', 'COMPRAS', 'COMPRAS', 'COMPRAS', 'COMPRAS', 'COMPRAS',\n",
              "       'COMPRAS', 'COMPRAS', 'COMPRAS', 'COMPRAS', 'OTRAS COMPRAS',\n",
              "       'COMPRAS', 'COMPRAS', 'COMPRAS', 'COMPRAS', 'COMPRAS', 'COMPRAS',\n",
              "       'COMPRAS', 'OTRAS COMPRAS', 'COMPRAS', 'COMPRAS', 'COMPRAS',\n",
              "       'COMPRAS', 'COMPRAS', 'COMPRAS', 'OTRAS COMPRAS', 'COMPRAS',\n",
              "       'OTRAS COMPRAS', 'COMPRAS', 'OTRAS COMPRAS', 'OTRAS COMPRAS',\n",
              "       'COMPRAS', 'COMPRAS', 'COMPRAS', 'OTRAS COMPRAS', 'COMPRAS',\n",
              "       'OTRAS COMPRAS', 'COMPRAS', 'COMPRAS', 'COMPRAS', 'OTRAS COMPRAS',\n",
              "       'COMPRAS', 'COMPRAS', 'COMPRAS', 'COMPRAS', 'COMPRAS', 'COMPRAS',\n",
              "       'OTRAS COMPRAS', 'COMPRAS', 'OTRAS COMPRAS', 'COMPRAS', 'COMPRAS',\n",
              "       'COMPRAS', 'OTRAS COMPRAS', 'OTRAS COMPRAS', 'OTRAS COMPRAS',\n",
              "       'COMPRAS', 'COMPRAS', 'COMPRAS', 'COMPRAS', 'COMPRAS', 'COMPRAS',\n",
              "       'OTRAS COMPRAS', 'COMPRAS', 'COMPRAS', 'COMPRAS', 'COMPRAS',\n",
              "       'COMPRAS', 'COMPRAS', 'COMPRAS', 'COMPRAS', 'COMPRAS',\n",
              "       'OTRAS COMPRAS', 'COMPRAS', 'COMPRAS', 'OTRAS COMPRAS', 'COMPRAS',\n",
              "       'OTRAS COMPRAS', 'COMPRAS', 'COMPRAS', 'COMPRAS', 'COMPRAS',\n",
              "       'COMPRAS', 'COMPRAS', 'OTRAS COMPRAS', 'COMPRAS', 'OTRAS COMPRAS',\n",
              "       'COMPRAS', 'COMPRAS', 'OTRAS COMPRAS', 'COMPRAS', 'OTRAS COMPRAS',\n",
              "       'COMPRAS', 'COMPRAS', 'COMPRAS', 'COMPRAS', 'COMPRAS', 'COMPRAS',\n",
              "       'COMPRAS', 'OTRAS COMPRAS', 'OTRAS COMPRAS', 'COMPRAS', 'COMPRAS',\n",
              "       'COMPRAS', 'COMPRAS', 'COMPRAS', 'OTRAS COMPRAS', 'COMPRAS',\n",
              "       'COMPRAS', 'OTRAS COMPRAS', 'COMPRAS', 'COMPRAS', 'COMPRAS',\n",
              "       'COMPRAS', 'COMPRAS', 'OTRAS COMPRAS', 'COMPRAS', 'OTRAS COMPRAS',\n",
              "       'OTRAS COMPRAS', 'COMPRAS', 'OTRAS COMPRAS', 'COMPRAS', 'COMPRAS',\n",
              "       'COMPRAS', 'OTRAS COMPRAS', 'COMPRAS', 'COMPRAS', 'COMPRAS',\n",
              "       'COMPRAS', 'COMPRAS', 'COMPRAS', 'COMPRAS', 'COMPRAS',\n",
              "       'OTRAS COMPRAS', 'COMPRAS', 'OTRAS COMPRAS', 'COMPRAS', 'COMPRAS',\n",
              "       'OTRAS COMPRAS', 'OTRAS COMPRAS', 'COMPRAS', 'OTRAS COMPRAS',\n",
              "       'COMPRAS', 'COMPRAS', 'COMPRAS', 'OTRAS COMPRAS', 'COMPRAS',\n",
              "       'COMPRAS', 'COMPRAS', 'COMPRAS', 'COMPRAS', 'COMPRAS', 'COMPRAS',\n",
              "       'COMPRAS', 'COMPRAS', 'COMPRAS', 'OTRAS COMPRAS', 'OTRAS COMPRAS',\n",
              "       'COMPRAS', 'COMPRAS', 'COMPRAS', 'OTRAS COMPRAS', 'COMPRAS',\n",
              "       'COMPRAS', 'COMPRAS', 'COMPRAS', 'COMPRAS', 'COMPRAS', 'COMPRAS',\n",
              "       'COMPRAS', 'OTRAS COMPRAS', 'COMPRAS', 'COMPRAS', 'OTRAS COMPRAS',\n",
              "       'COMPRAS', 'OTRAS COMPRAS', 'COMPRAS', 'COMPRAS', 'COMPRAS',\n",
              "       'COMPRAS', 'COMPRAS', 'COMPRAS', 'COMPRAS', 'OTRAS COMPRAS',\n",
              "       'OTRAS COMPRAS', 'COMPRAS', 'OTRAS COMPRAS', 'OTRAS COMPRAS',\n",
              "       'COMPRAS', 'COMPRAS', 'COMPRAS', 'OTRAS COMPRAS', 'COMPRAS',\n",
              "       'COMPRAS', 'COMPRAS', 'COMPRAS', 'COMPRAS', 'OTRAS COMPRAS',\n",
              "       'COMPRAS', 'COMPRAS', 'COMPRAS', 'COMPRAS', 'OTRAS COMPRAS',\n",
              "       'COMPRAS', 'COMPRAS', 'COMPRAS', 'COMPRAS', 'COMPRAS', 'COMPRAS',\n",
              "       'OTRAS COMPRAS'], dtype=object)"
            ]
          },
          "metadata": {},
          "execution_count": 550
        }
      ]
    },
    {
      "cell_type": "code",
      "source": [
        "#Verifico la matriz de Confusión\n",
        "from sklearn.metrics import confusion_matrix\n",
        "matriz = confusion_matrix(y_test, y_pred)\n",
        "print('Matriz de Confusión:')\n",
        "print(matriz)"
      ],
      "metadata": {
        "colab": {
          "base_uri": "https://localhost:8080/"
        },
        "outputId": "fd0966dc-b568-4818-cbd1-34d6fb133566",
        "id": "ED25CjBihA5X"
      },
      "execution_count": null,
      "outputs": [
        {
          "output_type": "stream",
          "name": "stdout",
          "text": [
            "Matriz de Confusión:\n",
            "[[329 124]\n",
            " [340 118]]\n"
          ]
        }
      ]
    },
    {
      "cell_type": "code",
      "source": [
        "#Calculo la precisión del modelo\n",
        "from sklearn.metrics import precision_score\n",
        "\n",
        "precision = precision_score(y_test, y_pred, average=\"binary\", pos_label=\"COMPRAS\")\n",
        "print('Precisión del modelo:')\n",
        "print(precision)"
      ],
      "metadata": {
        "colab": {
          "base_uri": "https://localhost:8080/"
        },
        "outputId": "4fada590-d2a6-4236-8cfe-125ad143d6cd",
        "id": "L4r2vc88hA5Y"
      },
      "execution_count": null,
      "outputs": [
        {
          "output_type": "stream",
          "name": "stdout",
          "text": [
            "Precisión del modelo:\n",
            "0.49177877428998507\n"
          ]
        }
      ]
    },
    {
      "cell_type": "code",
      "source": [
        "#Calculo la exactitud del modelo\n",
        "from sklearn.metrics import accuracy_score\n",
        "\n",
        "exactitud = accuracy_score(y_test, y_pred)\n",
        "print('Exactitud del modelo:')\n",
        "print(exactitud)"
      ],
      "metadata": {
        "colab": {
          "base_uri": "https://localhost:8080/"
        },
        "outputId": "6b275c2f-92bb-4b5c-80e4-1f46d17bb72d",
        "id": "Get_N1Z8hA5Y"
      },
      "execution_count": null,
      "outputs": [
        {
          "output_type": "stream",
          "name": "stdout",
          "text": [
            "Exactitud del modelo:\n",
            "0.49066959385290887\n"
          ]
        }
      ]
    },
    {
      "cell_type": "code",
      "source": [
        "#Calculo la sensibilidad del modelo\n",
        "from sklearn.metrics import recall_score\n",
        "\n",
        "sensibilidad = recall_score(y_test, y_pred, average=\"binary\", pos_label=\"COMPRAS\")\n",
        "print('Sensibilidad del modelo:')\n",
        "print(sensibilidad)"
      ],
      "metadata": {
        "colab": {
          "base_uri": "https://localhost:8080/"
        },
        "outputId": "d6695f31-d4d1-44ee-f96a-6be5edf23fc0",
        "id": "0cAH5uSphA5Y"
      },
      "execution_count": null,
      "outputs": [
        {
          "output_type": "stream",
          "name": "stdout",
          "text": [
            "Sensibilidad del modelo:\n",
            "0.7262693156732892\n"
          ]
        }
      ]
    },
    {
      "cell_type": "code",
      "source": [
        "pres.append(precision)\n",
        "exa.append(exactitud)\n",
        "sen.append(sensibilidad)\n",
        "nom.append('2021')"
      ],
      "metadata": {
        "id": "TDIvHnp1qqc9"
      },
      "execution_count": null,
      "outputs": []
    },
    {
      "cell_type": "markdown",
      "source": [
        "#**2022**"
      ],
      "metadata": {
        "id": "AZVSSug7jCtr"
      }
    },
    {
      "cell_type": "code",
      "source": [
        "#Declaramos las variables dependientes e independientes para la regresión Logística\n",
        "Vars_Indep= gyc22[['TOTAL MX']]\n",
        "Var_Dep= gyc22['TIPO GASTO']"
      ],
      "metadata": {
        "id": "EKsPWIxsjCt2"
      },
      "execution_count": null,
      "outputs": []
    },
    {
      "cell_type": "code",
      "source": [
        "Var_Dep.describe()"
      ],
      "metadata": {
        "colab": {
          "base_uri": "https://localhost:8080/"
        },
        "id": "A6GybqvdztMm",
        "outputId": "ab8d640f-5d43-4665-fdb9-247c5c383038"
      },
      "execution_count": null,
      "outputs": [
        {
          "output_type": "execute_result",
          "data": {
            "text/plain": [
              "count              2577\n",
              "unique                2\n",
              "top       OTRAS COMPRAS\n",
              "freq               1363\n",
              "Name: TIPO GASTO, dtype: object"
            ]
          },
          "metadata": {},
          "execution_count": 557
        }
      ]
    },
    {
      "cell_type": "code",
      "source": [
        "#Redefinimos las variables \n",
        "X= Vars_Indep\n",
        "y= Var_Dep"
      ],
      "metadata": {
        "id": "A0hNABWwjCt3"
      },
      "execution_count": null,
      "outputs": []
    },
    {
      "cell_type": "code",
      "source": [
        "#Dividimos el conjunto de datos en la parte de entrenamiento y prueba:\n",
        "X_train, X_test, y_train, y_test = train_test_split(X, y, test_size=0.3, random_state =21)"
      ],
      "metadata": {
        "id": "8tjwczArjCt3"
      },
      "execution_count": null,
      "outputs": []
    },
    {
      "cell_type": "code",
      "source": [
        "#Se escalan todos los datos\n",
        "escalar = StandardScaler()"
      ],
      "metadata": {
        "id": "YLKWZXbMjCt3"
      },
      "execution_count": null,
      "outputs": []
    },
    {
      "cell_type": "code",
      "source": [
        "#Para realizar el escalamiento de las variables “X” tanto de entrenamiento como de prueba, utilizaremos fit_transform\n",
        "X_train = escalar.fit_transform(X_train)\n",
        "X_test = escalar.transform(X_test)"
      ],
      "metadata": {
        "id": "f1r94nqGjCt3"
      },
      "execution_count": null,
      "outputs": []
    },
    {
      "cell_type": "code",
      "source": [
        "#Definimos el algoritmo a utilizar\n",
        "from sklearn.linear_model import LogisticRegression\n",
        "algoritmo = LogisticRegression(class_weight='balanced')"
      ],
      "metadata": {
        "id": "tcycF_NNjCt4"
      },
      "execution_count": null,
      "outputs": []
    },
    {
      "cell_type": "code",
      "source": [
        "#Entrenamos el modelo\n",
        "algoritmo.fit(X_train, y_train)"
      ],
      "metadata": {
        "colab": {
          "base_uri": "https://localhost:8080/",
          "height": 74
        },
        "outputId": "b91ab3de-38d1-4593-8846-a7e4bc0a554f",
        "id": "UZH0sJLsjCt4"
      },
      "execution_count": null,
      "outputs": [
        {
          "output_type": "execute_result",
          "data": {
            "text/plain": [
              "LogisticRegression(class_weight='balanced')"
            ],
            "text/html": [
              "<style>#sk-container-id-39 {color: black;background-color: white;}#sk-container-id-39 pre{padding: 0;}#sk-container-id-39 div.sk-toggleable {background-color: white;}#sk-container-id-39 label.sk-toggleable__label {cursor: pointer;display: block;width: 100%;margin-bottom: 0;padding: 0.3em;box-sizing: border-box;text-align: center;}#sk-container-id-39 label.sk-toggleable__label-arrow:before {content: \"▸\";float: left;margin-right: 0.25em;color: #696969;}#sk-container-id-39 label.sk-toggleable__label-arrow:hover:before {color: black;}#sk-container-id-39 div.sk-estimator:hover label.sk-toggleable__label-arrow:before {color: black;}#sk-container-id-39 div.sk-toggleable__content {max-height: 0;max-width: 0;overflow: hidden;text-align: left;background-color: #f0f8ff;}#sk-container-id-39 div.sk-toggleable__content pre {margin: 0.2em;color: black;border-radius: 0.25em;background-color: #f0f8ff;}#sk-container-id-39 input.sk-toggleable__control:checked~div.sk-toggleable__content {max-height: 200px;max-width: 100%;overflow: auto;}#sk-container-id-39 input.sk-toggleable__control:checked~label.sk-toggleable__label-arrow:before {content: \"▾\";}#sk-container-id-39 div.sk-estimator input.sk-toggleable__control:checked~label.sk-toggleable__label {background-color: #d4ebff;}#sk-container-id-39 div.sk-label input.sk-toggleable__control:checked~label.sk-toggleable__label {background-color: #d4ebff;}#sk-container-id-39 input.sk-hidden--visually {border: 0;clip: rect(1px 1px 1px 1px);clip: rect(1px, 1px, 1px, 1px);height: 1px;margin: -1px;overflow: hidden;padding: 0;position: absolute;width: 1px;}#sk-container-id-39 div.sk-estimator {font-family: monospace;background-color: #f0f8ff;border: 1px dotted black;border-radius: 0.25em;box-sizing: border-box;margin-bottom: 0.5em;}#sk-container-id-39 div.sk-estimator:hover {background-color: #d4ebff;}#sk-container-id-39 div.sk-parallel-item::after {content: \"\";width: 100%;border-bottom: 1px solid gray;flex-grow: 1;}#sk-container-id-39 div.sk-label:hover label.sk-toggleable__label {background-color: #d4ebff;}#sk-container-id-39 div.sk-serial::before {content: \"\";position: absolute;border-left: 1px solid gray;box-sizing: border-box;top: 0;bottom: 0;left: 50%;z-index: 0;}#sk-container-id-39 div.sk-serial {display: flex;flex-direction: column;align-items: center;background-color: white;padding-right: 0.2em;padding-left: 0.2em;position: relative;}#sk-container-id-39 div.sk-item {position: relative;z-index: 1;}#sk-container-id-39 div.sk-parallel {display: flex;align-items: stretch;justify-content: center;background-color: white;position: relative;}#sk-container-id-39 div.sk-item::before, #sk-container-id-39 div.sk-parallel-item::before {content: \"\";position: absolute;border-left: 1px solid gray;box-sizing: border-box;top: 0;bottom: 0;left: 50%;z-index: -1;}#sk-container-id-39 div.sk-parallel-item {display: flex;flex-direction: column;z-index: 1;position: relative;background-color: white;}#sk-container-id-39 div.sk-parallel-item:first-child::after {align-self: flex-end;width: 50%;}#sk-container-id-39 div.sk-parallel-item:last-child::after {align-self: flex-start;width: 50%;}#sk-container-id-39 div.sk-parallel-item:only-child::after {width: 0;}#sk-container-id-39 div.sk-dashed-wrapped {border: 1px dashed gray;margin: 0 0.4em 0.5em 0.4em;box-sizing: border-box;padding-bottom: 0.4em;background-color: white;}#sk-container-id-39 div.sk-label label {font-family: monospace;font-weight: bold;display: inline-block;line-height: 1.2em;}#sk-container-id-39 div.sk-label-container {text-align: center;}#sk-container-id-39 div.sk-container {/* jupyter's `normalize.less` sets `[hidden] { display: none; }` but bootstrap.min.css set `[hidden] { display: none !important; }` so we also need the `!important` here to be able to override the default hidden behavior on the sphinx rendered scikit-learn.org. See: https://github.com/scikit-learn/scikit-learn/issues/21755 */display: inline-block !important;position: relative;}#sk-container-id-39 div.sk-text-repr-fallback {display: none;}</style><div id=\"sk-container-id-39\" class=\"sk-top-container\"><div class=\"sk-text-repr-fallback\"><pre>LogisticRegression(class_weight=&#x27;balanced&#x27;)</pre><b>In a Jupyter environment, please rerun this cell to show the HTML representation or trust the notebook. <br />On GitHub, the HTML representation is unable to render, please try loading this page with nbviewer.org.</b></div><div class=\"sk-container\" hidden><div class=\"sk-item\"><div class=\"sk-estimator sk-toggleable\"><input class=\"sk-toggleable__control sk-hidden--visually\" id=\"sk-estimator-id-39\" type=\"checkbox\" checked><label for=\"sk-estimator-id-39\" class=\"sk-toggleable__label sk-toggleable__label-arrow\">LogisticRegression</label><div class=\"sk-toggleable__content\"><pre>LogisticRegression(class_weight=&#x27;balanced&#x27;)</pre></div></div></div></div></div>"
            ]
          },
          "metadata": {},
          "execution_count": 563
        }
      ]
    },
    {
      "cell_type": "code",
      "source": [
        "#Realizamos una predicción\n",
        "y_pred = algoritmo.predict(X_test) \n",
        "y_pred"
      ],
      "metadata": {
        "colab": {
          "base_uri": "https://localhost:8080/"
        },
        "outputId": "89130883-2d51-4fbb-cb46-9c3f4d1b8955",
        "id": "4BD0nXgijCt4"
      },
      "execution_count": null,
      "outputs": [
        {
          "output_type": "execute_result",
          "data": {
            "text/plain": [
              "array(['COMPRAS', 'OTRAS COMPRAS', 'OTRAS COMPRAS', 'COMPRAS', 'COMPRAS',\n",
              "       'COMPRAS', 'COMPRAS', 'OTRAS COMPRAS', 'COMPRAS', 'COMPRAS',\n",
              "       'OTRAS COMPRAS', 'COMPRAS', 'COMPRAS', 'COMPRAS', 'OTRAS COMPRAS',\n",
              "       'OTRAS COMPRAS', 'OTRAS COMPRAS', 'OTRAS COMPRAS', 'COMPRAS',\n",
              "       'COMPRAS', 'COMPRAS', 'COMPRAS', 'COMPRAS', 'OTRAS COMPRAS',\n",
              "       'COMPRAS', 'COMPRAS', 'COMPRAS', 'OTRAS COMPRAS', 'COMPRAS',\n",
              "       'COMPRAS', 'COMPRAS', 'OTRAS COMPRAS', 'OTRAS COMPRAS', 'COMPRAS',\n",
              "       'COMPRAS', 'COMPRAS', 'COMPRAS', 'COMPRAS', 'COMPRAS', 'COMPRAS',\n",
              "       'OTRAS COMPRAS', 'OTRAS COMPRAS', 'COMPRAS', 'COMPRAS', 'COMPRAS',\n",
              "       'OTRAS COMPRAS', 'COMPRAS', 'COMPRAS', 'COMPRAS', 'OTRAS COMPRAS',\n",
              "       'COMPRAS', 'COMPRAS', 'COMPRAS', 'COMPRAS', 'COMPRAS',\n",
              "       'OTRAS COMPRAS', 'COMPRAS', 'COMPRAS', 'OTRAS COMPRAS', 'COMPRAS',\n",
              "       'COMPRAS', 'COMPRAS', 'COMPRAS', 'COMPRAS', 'COMPRAS', 'COMPRAS',\n",
              "       'OTRAS COMPRAS', 'COMPRAS', 'COMPRAS', 'COMPRAS', 'COMPRAS',\n",
              "       'COMPRAS', 'OTRAS COMPRAS', 'OTRAS COMPRAS', 'COMPRAS', 'COMPRAS',\n",
              "       'COMPRAS', 'COMPRAS', 'OTRAS COMPRAS', 'COMPRAS', 'COMPRAS',\n",
              "       'COMPRAS', 'COMPRAS', 'COMPRAS', 'COMPRAS', 'COMPRAS', 'COMPRAS',\n",
              "       'OTRAS COMPRAS', 'COMPRAS', 'COMPRAS', 'COMPRAS', 'COMPRAS',\n",
              "       'OTRAS COMPRAS', 'OTRAS COMPRAS', 'OTRAS COMPRAS', 'COMPRAS',\n",
              "       'OTRAS COMPRAS', 'OTRAS COMPRAS', 'COMPRAS', 'OTRAS COMPRAS',\n",
              "       'COMPRAS', 'COMPRAS', 'COMPRAS', 'COMPRAS', 'OTRAS COMPRAS',\n",
              "       'COMPRAS', 'COMPRAS', 'COMPRAS', 'COMPRAS', 'COMPRAS',\n",
              "       'OTRAS COMPRAS', 'COMPRAS', 'COMPRAS', 'OTRAS COMPRAS', 'COMPRAS',\n",
              "       'COMPRAS', 'COMPRAS', 'OTRAS COMPRAS', 'OTRAS COMPRAS', 'COMPRAS',\n",
              "       'OTRAS COMPRAS', 'OTRAS COMPRAS', 'COMPRAS', 'COMPRAS', 'COMPRAS',\n",
              "       'COMPRAS', 'COMPRAS', 'COMPRAS', 'COMPRAS', 'COMPRAS', 'COMPRAS',\n",
              "       'OTRAS COMPRAS', 'OTRAS COMPRAS', 'COMPRAS', 'OTRAS COMPRAS',\n",
              "       'OTRAS COMPRAS', 'OTRAS COMPRAS', 'COMPRAS', 'OTRAS COMPRAS',\n",
              "       'COMPRAS', 'COMPRAS', 'OTRAS COMPRAS', 'OTRAS COMPRAS', 'COMPRAS',\n",
              "       'OTRAS COMPRAS', 'COMPRAS', 'OTRAS COMPRAS', 'COMPRAS', 'COMPRAS',\n",
              "       'COMPRAS', 'OTRAS COMPRAS', 'COMPRAS', 'OTRAS COMPRAS', 'COMPRAS',\n",
              "       'COMPRAS', 'OTRAS COMPRAS', 'COMPRAS', 'OTRAS COMPRAS', 'COMPRAS',\n",
              "       'OTRAS COMPRAS', 'OTRAS COMPRAS', 'COMPRAS', 'COMPRAS', 'COMPRAS',\n",
              "       'COMPRAS', 'COMPRAS', 'COMPRAS', 'OTRAS COMPRAS', 'OTRAS COMPRAS',\n",
              "       'COMPRAS', 'COMPRAS', 'OTRAS COMPRAS', 'COMPRAS', 'COMPRAS',\n",
              "       'COMPRAS', 'OTRAS COMPRAS', 'COMPRAS', 'OTRAS COMPRAS', 'COMPRAS',\n",
              "       'COMPRAS', 'COMPRAS', 'COMPRAS', 'OTRAS COMPRAS', 'COMPRAS',\n",
              "       'COMPRAS', 'COMPRAS', 'COMPRAS', 'OTRAS COMPRAS', 'OTRAS COMPRAS',\n",
              "       'COMPRAS', 'COMPRAS', 'COMPRAS', 'COMPRAS', 'COMPRAS', 'COMPRAS',\n",
              "       'COMPRAS', 'COMPRAS', 'OTRAS COMPRAS', 'COMPRAS', 'COMPRAS',\n",
              "       'OTRAS COMPRAS', 'COMPRAS', 'COMPRAS', 'COMPRAS', 'COMPRAS',\n",
              "       'OTRAS COMPRAS', 'OTRAS COMPRAS', 'COMPRAS', 'COMPRAS', 'COMPRAS',\n",
              "       'COMPRAS', 'OTRAS COMPRAS', 'COMPRAS', 'COMPRAS', 'OTRAS COMPRAS',\n",
              "       'COMPRAS', 'COMPRAS', 'COMPRAS', 'COMPRAS', 'COMPRAS', 'COMPRAS',\n",
              "       'COMPRAS', 'OTRAS COMPRAS', 'COMPRAS', 'COMPRAS', 'COMPRAS',\n",
              "       'COMPRAS', 'OTRAS COMPRAS', 'COMPRAS', 'OTRAS COMPRAS', 'COMPRAS',\n",
              "       'OTRAS COMPRAS', 'OTRAS COMPRAS', 'OTRAS COMPRAS', 'COMPRAS',\n",
              "       'COMPRAS', 'OTRAS COMPRAS', 'OTRAS COMPRAS', 'COMPRAS', 'COMPRAS',\n",
              "       'COMPRAS', 'COMPRAS', 'COMPRAS', 'OTRAS COMPRAS', 'COMPRAS',\n",
              "       'COMPRAS', 'OTRAS COMPRAS', 'OTRAS COMPRAS', 'COMPRAS',\n",
              "       'OTRAS COMPRAS', 'COMPRAS', 'OTRAS COMPRAS', 'COMPRAS', 'COMPRAS',\n",
              "       'COMPRAS', 'COMPRAS', 'COMPRAS', 'COMPRAS', 'COMPRAS', 'COMPRAS',\n",
              "       'COMPRAS', 'COMPRAS', 'COMPRAS', 'COMPRAS', 'COMPRAS', 'COMPRAS',\n",
              "       'COMPRAS', 'COMPRAS', 'OTRAS COMPRAS', 'COMPRAS', 'OTRAS COMPRAS',\n",
              "       'COMPRAS', 'COMPRAS', 'COMPRAS', 'COMPRAS', 'COMPRAS', 'COMPRAS',\n",
              "       'COMPRAS', 'COMPRAS', 'COMPRAS', 'COMPRAS', 'COMPRAS', 'COMPRAS',\n",
              "       'OTRAS COMPRAS', 'COMPRAS', 'COMPRAS', 'COMPRAS', 'COMPRAS',\n",
              "       'COMPRAS', 'COMPRAS', 'OTRAS COMPRAS', 'OTRAS COMPRAS', 'COMPRAS',\n",
              "       'OTRAS COMPRAS', 'COMPRAS', 'OTRAS COMPRAS', 'COMPRAS', 'COMPRAS',\n",
              "       'COMPRAS', 'COMPRAS', 'COMPRAS', 'COMPRAS', 'COMPRAS', 'COMPRAS',\n",
              "       'COMPRAS', 'COMPRAS', 'COMPRAS', 'COMPRAS', 'COMPRAS', 'COMPRAS',\n",
              "       'OTRAS COMPRAS', 'COMPRAS', 'OTRAS COMPRAS', 'COMPRAS', 'COMPRAS',\n",
              "       'COMPRAS', 'COMPRAS', 'OTRAS COMPRAS', 'OTRAS COMPRAS',\n",
              "       'OTRAS COMPRAS', 'COMPRAS', 'OTRAS COMPRAS', 'COMPRAS', 'COMPRAS',\n",
              "       'OTRAS COMPRAS', 'OTRAS COMPRAS', 'COMPRAS', 'COMPRAS', 'COMPRAS',\n",
              "       'COMPRAS', 'OTRAS COMPRAS', 'COMPRAS', 'COMPRAS', 'OTRAS COMPRAS',\n",
              "       'OTRAS COMPRAS', 'OTRAS COMPRAS', 'COMPRAS', 'COMPRAS', 'COMPRAS',\n",
              "       'COMPRAS', 'OTRAS COMPRAS', 'COMPRAS', 'OTRAS COMPRAS',\n",
              "       'OTRAS COMPRAS', 'OTRAS COMPRAS', 'COMPRAS', 'COMPRAS',\n",
              "       'OTRAS COMPRAS', 'OTRAS COMPRAS', 'COMPRAS', 'COMPRAS',\n",
              "       'OTRAS COMPRAS', 'COMPRAS', 'COMPRAS', 'OTRAS COMPRAS', 'COMPRAS',\n",
              "       'COMPRAS', 'COMPRAS', 'OTRAS COMPRAS', 'COMPRAS', 'OTRAS COMPRAS',\n",
              "       'COMPRAS', 'COMPRAS', 'COMPRAS', 'COMPRAS', 'OTRAS COMPRAS',\n",
              "       'OTRAS COMPRAS', 'COMPRAS', 'COMPRAS', 'COMPRAS', 'COMPRAS',\n",
              "       'COMPRAS', 'COMPRAS', 'COMPRAS', 'COMPRAS', 'COMPRAS',\n",
              "       'OTRAS COMPRAS', 'OTRAS COMPRAS', 'COMPRAS', 'COMPRAS',\n",
              "       'OTRAS COMPRAS', 'OTRAS COMPRAS', 'OTRAS COMPRAS', 'COMPRAS',\n",
              "       'COMPRAS', 'OTRAS COMPRAS', 'OTRAS COMPRAS', 'COMPRAS', 'COMPRAS',\n",
              "       'OTRAS COMPRAS', 'OTRAS COMPRAS', 'COMPRAS', 'COMPRAS',\n",
              "       'OTRAS COMPRAS', 'OTRAS COMPRAS', 'COMPRAS', 'COMPRAS', 'COMPRAS',\n",
              "       'COMPRAS', 'COMPRAS', 'OTRAS COMPRAS', 'COMPRAS', 'COMPRAS',\n",
              "       'COMPRAS', 'OTRAS COMPRAS', 'COMPRAS', 'COMPRAS', 'COMPRAS',\n",
              "       'OTRAS COMPRAS', 'COMPRAS', 'COMPRAS', 'COMPRAS', 'COMPRAS',\n",
              "       'COMPRAS', 'OTRAS COMPRAS', 'COMPRAS', 'COMPRAS', 'COMPRAS',\n",
              "       'COMPRAS', 'COMPRAS', 'OTRAS COMPRAS', 'COMPRAS', 'COMPRAS',\n",
              "       'OTRAS COMPRAS', 'COMPRAS', 'COMPRAS', 'OTRAS COMPRAS', 'COMPRAS',\n",
              "       'OTRAS COMPRAS', 'COMPRAS', 'COMPRAS', 'COMPRAS', 'COMPRAS',\n",
              "       'COMPRAS', 'OTRAS COMPRAS', 'COMPRAS', 'COMPRAS', 'COMPRAS',\n",
              "       'OTRAS COMPRAS', 'COMPRAS', 'COMPRAS', 'OTRAS COMPRAS', 'COMPRAS',\n",
              "       'COMPRAS', 'COMPRAS', 'OTRAS COMPRAS', 'OTRAS COMPRAS', 'COMPRAS',\n",
              "       'COMPRAS', 'COMPRAS', 'COMPRAS', 'COMPRAS', 'COMPRAS', 'COMPRAS',\n",
              "       'COMPRAS', 'COMPRAS', 'COMPRAS', 'OTRAS COMPRAS', 'COMPRAS',\n",
              "       'COMPRAS', 'COMPRAS', 'COMPRAS', 'COMPRAS', 'COMPRAS', 'COMPRAS',\n",
              "       'COMPRAS', 'OTRAS COMPRAS', 'COMPRAS', 'COMPRAS', 'OTRAS COMPRAS',\n",
              "       'COMPRAS', 'COMPRAS', 'COMPRAS', 'COMPRAS', 'COMPRAS', 'COMPRAS',\n",
              "       'COMPRAS', 'COMPRAS', 'OTRAS COMPRAS', 'COMPRAS', 'COMPRAS',\n",
              "       'OTRAS COMPRAS', 'COMPRAS', 'COMPRAS', 'COMPRAS', 'COMPRAS',\n",
              "       'COMPRAS', 'OTRAS COMPRAS', 'OTRAS COMPRAS', 'COMPRAS', 'COMPRAS',\n",
              "       'COMPRAS', 'COMPRAS', 'COMPRAS', 'COMPRAS', 'COMPRAS', 'COMPRAS',\n",
              "       'OTRAS COMPRAS', 'COMPRAS', 'COMPRAS', 'COMPRAS', 'COMPRAS',\n",
              "       'COMPRAS', 'COMPRAS', 'COMPRAS', 'COMPRAS', 'COMPRAS', 'COMPRAS',\n",
              "       'COMPRAS', 'COMPRAS', 'COMPRAS', 'COMPRAS', 'COMPRAS',\n",
              "       'OTRAS COMPRAS', 'OTRAS COMPRAS', 'COMPRAS', 'COMPRAS',\n",
              "       'OTRAS COMPRAS', 'COMPRAS', 'COMPRAS', 'COMPRAS', 'COMPRAS',\n",
              "       'COMPRAS', 'COMPRAS', 'COMPRAS', 'COMPRAS', 'COMPRAS', 'COMPRAS',\n",
              "       'COMPRAS', 'OTRAS COMPRAS', 'COMPRAS', 'COMPRAS', 'OTRAS COMPRAS',\n",
              "       'COMPRAS', 'OTRAS COMPRAS', 'OTRAS COMPRAS', 'COMPRAS', 'COMPRAS',\n",
              "       'COMPRAS', 'COMPRAS', 'COMPRAS', 'COMPRAS', 'COMPRAS', 'COMPRAS',\n",
              "       'COMPRAS', 'COMPRAS', 'COMPRAS', 'COMPRAS', 'OTRAS COMPRAS',\n",
              "       'COMPRAS', 'OTRAS COMPRAS', 'COMPRAS', 'COMPRAS', 'COMPRAS',\n",
              "       'COMPRAS', 'COMPRAS', 'COMPRAS', 'COMPRAS', 'COMPRAS',\n",
              "       'OTRAS COMPRAS', 'OTRAS COMPRAS', 'COMPRAS', 'COMPRAS', 'COMPRAS',\n",
              "       'OTRAS COMPRAS', 'OTRAS COMPRAS', 'OTRAS COMPRAS', 'COMPRAS',\n",
              "       'COMPRAS', 'COMPRAS', 'COMPRAS', 'COMPRAS', 'COMPRAS', 'COMPRAS',\n",
              "       'COMPRAS', 'OTRAS COMPRAS', 'COMPRAS', 'COMPRAS', 'COMPRAS',\n",
              "       'COMPRAS', 'COMPRAS', 'COMPRAS', 'COMPRAS', 'OTRAS COMPRAS',\n",
              "       'OTRAS COMPRAS', 'COMPRAS', 'OTRAS COMPRAS', 'OTRAS COMPRAS',\n",
              "       'COMPRAS', 'OTRAS COMPRAS', 'OTRAS COMPRAS', 'COMPRAS',\n",
              "       'OTRAS COMPRAS', 'COMPRAS', 'COMPRAS', 'COMPRAS', 'COMPRAS',\n",
              "       'COMPRAS', 'COMPRAS', 'OTRAS COMPRAS', 'COMPRAS', 'COMPRAS',\n",
              "       'COMPRAS', 'COMPRAS', 'COMPRAS', 'OTRAS COMPRAS', 'COMPRAS',\n",
              "       'OTRAS COMPRAS', 'OTRAS COMPRAS', 'OTRAS COMPRAS', 'COMPRAS',\n",
              "       'COMPRAS', 'COMPRAS', 'COMPRAS', 'COMPRAS', 'COMPRAS', 'COMPRAS',\n",
              "       'COMPRAS', 'OTRAS COMPRAS', 'OTRAS COMPRAS', 'OTRAS COMPRAS',\n",
              "       'COMPRAS', 'COMPRAS', 'COMPRAS', 'COMPRAS', 'COMPRAS', 'COMPRAS',\n",
              "       'COMPRAS', 'COMPRAS', 'OTRAS COMPRAS', 'OTRAS COMPRAS', 'COMPRAS',\n",
              "       'COMPRAS', 'COMPRAS', 'COMPRAS', 'COMPRAS', 'OTRAS COMPRAS',\n",
              "       'COMPRAS', 'COMPRAS', 'COMPRAS', 'COMPRAS', 'COMPRAS', 'COMPRAS',\n",
              "       'COMPRAS', 'COMPRAS', 'COMPRAS', 'COMPRAS', 'OTRAS COMPRAS',\n",
              "       'OTRAS COMPRAS', 'COMPRAS', 'COMPRAS', 'COMPRAS', 'COMPRAS',\n",
              "       'COMPRAS', 'OTRAS COMPRAS', 'COMPRAS', 'COMPRAS', 'COMPRAS',\n",
              "       'COMPRAS', 'COMPRAS', 'COMPRAS', 'COMPRAS', 'COMPRAS',\n",
              "       'OTRAS COMPRAS', 'COMPRAS', 'COMPRAS', 'COMPRAS', 'COMPRAS',\n",
              "       'COMPRAS', 'COMPRAS', 'COMPRAS', 'COMPRAS', 'COMPRAS',\n",
              "       'OTRAS COMPRAS', 'COMPRAS', 'OTRAS COMPRAS', 'OTRAS COMPRAS',\n",
              "       'COMPRAS', 'COMPRAS', 'COMPRAS', 'COMPRAS', 'OTRAS COMPRAS',\n",
              "       'COMPRAS', 'COMPRAS', 'COMPRAS', 'COMPRAS', 'COMPRAS', 'COMPRAS',\n",
              "       'COMPRAS', 'COMPRAS', 'COMPRAS', 'COMPRAS', 'COMPRAS', 'COMPRAS',\n",
              "       'COMPRAS', 'COMPRAS', 'OTRAS COMPRAS', 'COMPRAS', 'COMPRAS',\n",
              "       'OTRAS COMPRAS', 'OTRAS COMPRAS', 'COMPRAS', 'COMPRAS', 'COMPRAS',\n",
              "       'OTRAS COMPRAS', 'COMPRAS', 'COMPRAS', 'COMPRAS', 'COMPRAS',\n",
              "       'COMPRAS', 'COMPRAS', 'COMPRAS', 'OTRAS COMPRAS', 'COMPRAS',\n",
              "       'COMPRAS', 'COMPRAS', 'COMPRAS', 'OTRAS COMPRAS', 'OTRAS COMPRAS',\n",
              "       'OTRAS COMPRAS', 'COMPRAS', 'COMPRAS', 'COMPRAS', 'COMPRAS',\n",
              "       'COMPRAS', 'COMPRAS', 'OTRAS COMPRAS', 'COMPRAS', 'COMPRAS',\n",
              "       'COMPRAS', 'OTRAS COMPRAS', 'COMPRAS', 'COMPRAS', 'COMPRAS',\n",
              "       'COMPRAS', 'COMPRAS', 'OTRAS COMPRAS', 'COMPRAS', 'COMPRAS',\n",
              "       'COMPRAS', 'COMPRAS', 'COMPRAS', 'OTRAS COMPRAS', 'OTRAS COMPRAS',\n",
              "       'OTRAS COMPRAS', 'COMPRAS', 'OTRAS COMPRAS', 'OTRAS COMPRAS',\n",
              "       'COMPRAS', 'COMPRAS', 'OTRAS COMPRAS', 'OTRAS COMPRAS', 'COMPRAS',\n",
              "       'OTRAS COMPRAS', 'COMPRAS', 'COMPRAS', 'COMPRAS', 'COMPRAS',\n",
              "       'COMPRAS', 'COMPRAS', 'COMPRAS', 'COMPRAS', 'COMPRAS', 'COMPRAS',\n",
              "       'OTRAS COMPRAS', 'COMPRAS', 'OTRAS COMPRAS', 'COMPRAS', 'COMPRAS',\n",
              "       'COMPRAS', 'COMPRAS', 'COMPRAS', 'COMPRAS', 'OTRAS COMPRAS'],\n",
              "      dtype=object)"
            ]
          },
          "metadata": {},
          "execution_count": 564
        }
      ]
    },
    {
      "cell_type": "code",
      "source": [
        "#Verifico la matriz de Confusión\n",
        "from sklearn.metrics import confusion_matrix\n",
        "matriz = confusion_matrix(y_test, y_pred)\n",
        "print('Matriz de Confusión:')\n",
        "print(matriz)"
      ],
      "metadata": {
        "colab": {
          "base_uri": "https://localhost:8080/"
        },
        "outputId": "9c43bdb8-d3e2-4320-9df6-e64f2d4d7dbf",
        "id": "QT-4oxsFjCt5"
      },
      "execution_count": null,
      "outputs": [
        {
          "output_type": "stream",
          "name": "stdout",
          "text": [
            "Matriz de Confusión:\n",
            "[[264 101]\n",
            " [305 104]]\n"
          ]
        }
      ]
    },
    {
      "cell_type": "code",
      "source": [
        "#Calculo la precisión del modelo\n",
        "from sklearn.metrics import precision_score\n",
        "\n",
        "precision = precision_score(y_test, y_pred, average=\"binary\", pos_label=\"COMPRAS\")\n",
        "print('Precisión del modelo:')\n",
        "print(precision)"
      ],
      "metadata": {
        "colab": {
          "base_uri": "https://localhost:8080/"
        },
        "outputId": "8ad02d00-f178-4b10-c54e-89d912d2eea1",
        "id": "3oEXlXK6jCt5"
      },
      "execution_count": null,
      "outputs": [
        {
          "output_type": "stream",
          "name": "stdout",
          "text": [
            "Precisión del modelo:\n",
            "0.46397188049209137\n"
          ]
        }
      ]
    },
    {
      "cell_type": "code",
      "source": [
        "#Calculo la exactitud del modelo\n",
        "from sklearn.metrics import accuracy_score\n",
        "\n",
        "exactitud = accuracy_score(y_test, y_pred)\n",
        "print('Exactitud del modelo:')\n",
        "print(exactitud)"
      ],
      "metadata": {
        "colab": {
          "base_uri": "https://localhost:8080/"
        },
        "outputId": "cbadc195-fc64-4f05-b386-a3b1cd17ea13",
        "id": "UOUHNj3ijCt5"
      },
      "execution_count": null,
      "outputs": [
        {
          "output_type": "stream",
          "name": "stdout",
          "text": [
            "Exactitud del modelo:\n",
            "0.4754521963824289\n"
          ]
        }
      ]
    },
    {
      "cell_type": "code",
      "source": [
        "#Calculo la sensibilidad del modelo\n",
        "from sklearn.metrics import recall_score\n",
        "\n",
        "sensibilidad = recall_score(y_test, y_pred, average=\"binary\", pos_label=\"COMPRAS\")\n",
        "print('Sensibilidad del modelo:')\n",
        "print(sensibilidad)"
      ],
      "metadata": {
        "colab": {
          "base_uri": "https://localhost:8080/"
        },
        "outputId": "1cb691b5-4f4a-4619-b398-db9324e05d7d",
        "id": "gPAtfdHGjCt5"
      },
      "execution_count": null,
      "outputs": [
        {
          "output_type": "stream",
          "name": "stdout",
          "text": [
            "Sensibilidad del modelo:\n",
            "0.7232876712328767\n"
          ]
        }
      ]
    },
    {
      "cell_type": "code",
      "source": [
        "pres.append(precision)\n",
        "exa.append(exactitud)\n",
        "sen.append(sensibilidad)\n",
        "nom.append('2022')"
      ],
      "metadata": {
        "id": "ABegm79Fqs4O"
      },
      "execution_count": null,
      "outputs": []
    },
    {
      "cell_type": "markdown",
      "source": [
        "#**2023**"
      ],
      "metadata": {
        "id": "OAYwKQfxjCt6"
      }
    },
    {
      "cell_type": "code",
      "source": [
        "#Declaramos las variables dependientes e independientes para la regresión Logística\n",
        "Vars_Indep= gyc23[['TOTAL MX']]\n",
        "Var_Dep= gyc23['TIPO GASTO']"
      ],
      "metadata": {
        "id": "tq6RctWQjCt6"
      },
      "execution_count": null,
      "outputs": []
    },
    {
      "cell_type": "code",
      "source": [
        "Var_Dep.describe()"
      ],
      "metadata": {
        "colab": {
          "base_uri": "https://localhost:8080/"
        },
        "id": "BZI6X2UqzvLz",
        "outputId": "1ca4af6d-c7ba-4241-bfe0-5ead814ad271"
      },
      "execution_count": null,
      "outputs": [
        {
          "output_type": "execute_result",
          "data": {
            "text/plain": [
              "count         397\n",
              "unique          2\n",
              "top       COMPRAS\n",
              "freq          205\n",
              "Name: TIPO GASTO, dtype: object"
            ]
          },
          "metadata": {},
          "execution_count": 571
        }
      ]
    },
    {
      "cell_type": "code",
      "source": [
        "#Redefinimos las variables \n",
        "X= Vars_Indep\n",
        "y= Var_Dep"
      ],
      "metadata": {
        "id": "8Pb-48zFjCt6"
      },
      "execution_count": null,
      "outputs": []
    },
    {
      "cell_type": "code",
      "source": [
        "#Dividimos el conjunto de datos en la parte de entrenamiento y prueba:\n",
        "X_train, X_test, y_train, y_test = train_test_split(X, y, test_size=0.3, random_state =21)"
      ],
      "metadata": {
        "id": "8JP1-3NMjCt6"
      },
      "execution_count": null,
      "outputs": []
    },
    {
      "cell_type": "code",
      "source": [
        "#Se escalan todos los datos\n",
        "escalar = StandardScaler()"
      ],
      "metadata": {
        "id": "n6Q9Uab7jCt6"
      },
      "execution_count": null,
      "outputs": []
    },
    {
      "cell_type": "code",
      "source": [
        "#Para realizar el escalamiento de las variables “X” tanto de entrenamiento como de prueba, utilizaremos fit_transform\n",
        "X_train = escalar.fit_transform(X_train)\n",
        "X_test = escalar.transform(X_test)"
      ],
      "metadata": {
        "id": "8Z8d-R0EjCt7"
      },
      "execution_count": null,
      "outputs": []
    },
    {
      "cell_type": "code",
      "source": [
        "#Definimos el algoritmo a utilizar\n",
        "from sklearn.linear_model import LogisticRegression\n",
        "algoritmo = LogisticRegression(class_weight='balanced')"
      ],
      "metadata": {
        "id": "_noZdhTgjCt7"
      },
      "execution_count": null,
      "outputs": []
    },
    {
      "cell_type": "code",
      "source": [
        "#Entrenamos el modelo\n",
        "algoritmo.fit(X_train, y_train)"
      ],
      "metadata": {
        "colab": {
          "base_uri": "https://localhost:8080/",
          "height": 74
        },
        "outputId": "e9d84f34-205d-45b2-9ba0-df436eaece17",
        "id": "5VtR6-R7jCt7"
      },
      "execution_count": null,
      "outputs": [
        {
          "output_type": "execute_result",
          "data": {
            "text/plain": [
              "LogisticRegression(class_weight='balanced')"
            ],
            "text/html": [
              "<style>#sk-container-id-40 {color: black;background-color: white;}#sk-container-id-40 pre{padding: 0;}#sk-container-id-40 div.sk-toggleable {background-color: white;}#sk-container-id-40 label.sk-toggleable__label {cursor: pointer;display: block;width: 100%;margin-bottom: 0;padding: 0.3em;box-sizing: border-box;text-align: center;}#sk-container-id-40 label.sk-toggleable__label-arrow:before {content: \"▸\";float: left;margin-right: 0.25em;color: #696969;}#sk-container-id-40 label.sk-toggleable__label-arrow:hover:before {color: black;}#sk-container-id-40 div.sk-estimator:hover label.sk-toggleable__label-arrow:before {color: black;}#sk-container-id-40 div.sk-toggleable__content {max-height: 0;max-width: 0;overflow: hidden;text-align: left;background-color: #f0f8ff;}#sk-container-id-40 div.sk-toggleable__content pre {margin: 0.2em;color: black;border-radius: 0.25em;background-color: #f0f8ff;}#sk-container-id-40 input.sk-toggleable__control:checked~div.sk-toggleable__content {max-height: 200px;max-width: 100%;overflow: auto;}#sk-container-id-40 input.sk-toggleable__control:checked~label.sk-toggleable__label-arrow:before {content: \"▾\";}#sk-container-id-40 div.sk-estimator input.sk-toggleable__control:checked~label.sk-toggleable__label {background-color: #d4ebff;}#sk-container-id-40 div.sk-label input.sk-toggleable__control:checked~label.sk-toggleable__label {background-color: #d4ebff;}#sk-container-id-40 input.sk-hidden--visually {border: 0;clip: rect(1px 1px 1px 1px);clip: rect(1px, 1px, 1px, 1px);height: 1px;margin: -1px;overflow: hidden;padding: 0;position: absolute;width: 1px;}#sk-container-id-40 div.sk-estimator {font-family: monospace;background-color: #f0f8ff;border: 1px dotted black;border-radius: 0.25em;box-sizing: border-box;margin-bottom: 0.5em;}#sk-container-id-40 div.sk-estimator:hover {background-color: #d4ebff;}#sk-container-id-40 div.sk-parallel-item::after {content: \"\";width: 100%;border-bottom: 1px solid gray;flex-grow: 1;}#sk-container-id-40 div.sk-label:hover label.sk-toggleable__label {background-color: #d4ebff;}#sk-container-id-40 div.sk-serial::before {content: \"\";position: absolute;border-left: 1px solid gray;box-sizing: border-box;top: 0;bottom: 0;left: 50%;z-index: 0;}#sk-container-id-40 div.sk-serial {display: flex;flex-direction: column;align-items: center;background-color: white;padding-right: 0.2em;padding-left: 0.2em;position: relative;}#sk-container-id-40 div.sk-item {position: relative;z-index: 1;}#sk-container-id-40 div.sk-parallel {display: flex;align-items: stretch;justify-content: center;background-color: white;position: relative;}#sk-container-id-40 div.sk-item::before, #sk-container-id-40 div.sk-parallel-item::before {content: \"\";position: absolute;border-left: 1px solid gray;box-sizing: border-box;top: 0;bottom: 0;left: 50%;z-index: -1;}#sk-container-id-40 div.sk-parallel-item {display: flex;flex-direction: column;z-index: 1;position: relative;background-color: white;}#sk-container-id-40 div.sk-parallel-item:first-child::after {align-self: flex-end;width: 50%;}#sk-container-id-40 div.sk-parallel-item:last-child::after {align-self: flex-start;width: 50%;}#sk-container-id-40 div.sk-parallel-item:only-child::after {width: 0;}#sk-container-id-40 div.sk-dashed-wrapped {border: 1px dashed gray;margin: 0 0.4em 0.5em 0.4em;box-sizing: border-box;padding-bottom: 0.4em;background-color: white;}#sk-container-id-40 div.sk-label label {font-family: monospace;font-weight: bold;display: inline-block;line-height: 1.2em;}#sk-container-id-40 div.sk-label-container {text-align: center;}#sk-container-id-40 div.sk-container {/* jupyter's `normalize.less` sets `[hidden] { display: none; }` but bootstrap.min.css set `[hidden] { display: none !important; }` so we also need the `!important` here to be able to override the default hidden behavior on the sphinx rendered scikit-learn.org. See: https://github.com/scikit-learn/scikit-learn/issues/21755 */display: inline-block !important;position: relative;}#sk-container-id-40 div.sk-text-repr-fallback {display: none;}</style><div id=\"sk-container-id-40\" class=\"sk-top-container\"><div class=\"sk-text-repr-fallback\"><pre>LogisticRegression(class_weight=&#x27;balanced&#x27;)</pre><b>In a Jupyter environment, please rerun this cell to show the HTML representation or trust the notebook. <br />On GitHub, the HTML representation is unable to render, please try loading this page with nbviewer.org.</b></div><div class=\"sk-container\" hidden><div class=\"sk-item\"><div class=\"sk-estimator sk-toggleable\"><input class=\"sk-toggleable__control sk-hidden--visually\" id=\"sk-estimator-id-40\" type=\"checkbox\" checked><label for=\"sk-estimator-id-40\" class=\"sk-toggleable__label sk-toggleable__label-arrow\">LogisticRegression</label><div class=\"sk-toggleable__content\"><pre>LogisticRegression(class_weight=&#x27;balanced&#x27;)</pre></div></div></div></div></div>"
            ]
          },
          "metadata": {},
          "execution_count": 577
        }
      ]
    },
    {
      "cell_type": "code",
      "source": [
        "#Realizamos una predicción\n",
        "y_pred = algoritmo.predict(X_test) \n",
        "y_pred"
      ],
      "metadata": {
        "colab": {
          "base_uri": "https://localhost:8080/"
        },
        "outputId": "950ed6af-0b89-47bb-fc66-5e39df813f4f",
        "id": "FkIH-eDnjCt8"
      },
      "execution_count": null,
      "outputs": [
        {
          "output_type": "execute_result",
          "data": {
            "text/plain": [
              "array(['OTRAS COMPRAS', 'OTRAS COMPRAS', 'COMPRAS', 'OTRAS COMPRAS',\n",
              "       'OTRAS COMPRAS', 'OTRAS COMPRAS', 'OTRAS COMPRAS', 'COMPRAS',\n",
              "       'COMPRAS', 'OTRAS COMPRAS', 'OTRAS COMPRAS', 'COMPRAS',\n",
              "       'OTRAS COMPRAS', 'OTRAS COMPRAS', 'COMPRAS', 'OTRAS COMPRAS',\n",
              "       'OTRAS COMPRAS', 'OTRAS COMPRAS', 'OTRAS COMPRAS', 'COMPRAS',\n",
              "       'COMPRAS', 'OTRAS COMPRAS', 'OTRAS COMPRAS', 'OTRAS COMPRAS',\n",
              "       'COMPRAS', 'COMPRAS', 'COMPRAS', 'COMPRAS', 'OTRAS COMPRAS',\n",
              "       'OTRAS COMPRAS', 'OTRAS COMPRAS', 'COMPRAS', 'OTRAS COMPRAS',\n",
              "       'COMPRAS', 'OTRAS COMPRAS', 'OTRAS COMPRAS', 'OTRAS COMPRAS',\n",
              "       'OTRAS COMPRAS', 'COMPRAS', 'OTRAS COMPRAS', 'OTRAS COMPRAS',\n",
              "       'COMPRAS', 'OTRAS COMPRAS', 'OTRAS COMPRAS', 'OTRAS COMPRAS',\n",
              "       'COMPRAS', 'OTRAS COMPRAS', 'OTRAS COMPRAS', 'OTRAS COMPRAS',\n",
              "       'OTRAS COMPRAS', 'OTRAS COMPRAS', 'COMPRAS', 'OTRAS COMPRAS',\n",
              "       'OTRAS COMPRAS', 'COMPRAS', 'OTRAS COMPRAS', 'OTRAS COMPRAS',\n",
              "       'OTRAS COMPRAS', 'OTRAS COMPRAS', 'OTRAS COMPRAS', 'OTRAS COMPRAS',\n",
              "       'OTRAS COMPRAS', 'OTRAS COMPRAS', 'OTRAS COMPRAS', 'OTRAS COMPRAS',\n",
              "       'COMPRAS', 'OTRAS COMPRAS', 'OTRAS COMPRAS', 'OTRAS COMPRAS',\n",
              "       'OTRAS COMPRAS', 'OTRAS COMPRAS', 'OTRAS COMPRAS', 'OTRAS COMPRAS',\n",
              "       'OTRAS COMPRAS', 'OTRAS COMPRAS', 'OTRAS COMPRAS', 'COMPRAS',\n",
              "       'OTRAS COMPRAS', 'OTRAS COMPRAS', 'COMPRAS', 'OTRAS COMPRAS',\n",
              "       'OTRAS COMPRAS', 'OTRAS COMPRAS', 'COMPRAS', 'OTRAS COMPRAS',\n",
              "       'OTRAS COMPRAS', 'OTRAS COMPRAS', 'OTRAS COMPRAS', 'OTRAS COMPRAS',\n",
              "       'COMPRAS', 'OTRAS COMPRAS', 'OTRAS COMPRAS', 'OTRAS COMPRAS',\n",
              "       'COMPRAS', 'OTRAS COMPRAS', 'COMPRAS', 'COMPRAS', 'OTRAS COMPRAS',\n",
              "       'OTRAS COMPRAS', 'OTRAS COMPRAS', 'OTRAS COMPRAS', 'COMPRAS',\n",
              "       'OTRAS COMPRAS', 'COMPRAS', 'OTRAS COMPRAS', 'OTRAS COMPRAS',\n",
              "       'OTRAS COMPRAS', 'OTRAS COMPRAS', 'OTRAS COMPRAS', 'COMPRAS',\n",
              "       'COMPRAS', 'COMPRAS', 'OTRAS COMPRAS', 'OTRAS COMPRAS',\n",
              "       'OTRAS COMPRAS', 'OTRAS COMPRAS', 'OTRAS COMPRAS', 'OTRAS COMPRAS',\n",
              "       'COMPRAS', 'OTRAS COMPRAS'], dtype=object)"
            ]
          },
          "metadata": {},
          "execution_count": 578
        }
      ]
    },
    {
      "cell_type": "code",
      "source": [
        "#Verifico la matriz de Confusión\n",
        "from sklearn.metrics import confusion_matrix\n",
        "matriz = confusion_matrix(y_test, y_pred)\n",
        "print('Matriz de Confusión:')\n",
        "print(matriz)"
      ],
      "metadata": {
        "colab": {
          "base_uri": "https://localhost:8080/"
        },
        "outputId": "f34076bd-b639-4138-b923-6c3891373b1b",
        "id": "-le7zgBYjCt8"
      },
      "execution_count": null,
      "outputs": [
        {
          "output_type": "stream",
          "name": "stdout",
          "text": [
            "Matriz de Confusión:\n",
            "[[16 38]\n",
            " [16 50]]\n"
          ]
        }
      ]
    },
    {
      "cell_type": "code",
      "source": [
        "#Calculo la precisión del modelo\n",
        "from sklearn.metrics import precision_score\n",
        "\n",
        "precision = precision_score(y_test, y_pred, average=\"binary\", pos_label=\"COMPRAS\")\n",
        "print('Precisión del modelo:')\n",
        "print(precision)"
      ],
      "metadata": {
        "colab": {
          "base_uri": "https://localhost:8080/"
        },
        "outputId": "98f6139f-258c-4428-8fb6-8264c9f5f539",
        "id": "SVq6fcdOjCt8"
      },
      "execution_count": null,
      "outputs": [
        {
          "output_type": "stream",
          "name": "stdout",
          "text": [
            "Precisión del modelo:\n",
            "0.5\n"
          ]
        }
      ]
    },
    {
      "cell_type": "code",
      "source": [
        "#Calculo la exactitud del modelo\n",
        "from sklearn.metrics import accuracy_score\n",
        "\n",
        "exactitud = accuracy_score(y_test, y_pred)\n",
        "print('Exactitud del modelo:')\n",
        "print(exactitud)"
      ],
      "metadata": {
        "colab": {
          "base_uri": "https://localhost:8080/"
        },
        "outputId": "340ddd4c-8465-48b3-b85c-e80a832af0b9",
        "id": "iM7t_RmBjCt9"
      },
      "execution_count": null,
      "outputs": [
        {
          "output_type": "stream",
          "name": "stdout",
          "text": [
            "Exactitud del modelo:\n",
            "0.55\n"
          ]
        }
      ]
    },
    {
      "cell_type": "code",
      "source": [
        "#Calculo la sensibilidad del modelo\n",
        "from sklearn.metrics import recall_score\n",
        "\n",
        "sensibilidad = recall_score(y_test, y_pred, average=\"binary\", pos_label=\"COMPRAS\")\n",
        "print('Sensibilidad del modelo:')\n",
        "print(sensibilidad)"
      ],
      "metadata": {
        "colab": {
          "base_uri": "https://localhost:8080/"
        },
        "outputId": "c6830d40-96e6-4577-bbc0-8dbc85aea4b8",
        "id": "cwD6beznjCt9"
      },
      "execution_count": null,
      "outputs": [
        {
          "output_type": "stream",
          "name": "stdout",
          "text": [
            "Sensibilidad del modelo:\n",
            "0.2962962962962963\n"
          ]
        }
      ]
    },
    {
      "cell_type": "code",
      "source": [
        "pres.append(precision)\n",
        "exa.append(exactitud)\n",
        "sen.append(sensibilidad)\n",
        "nom.append('2023')"
      ],
      "metadata": {
        "id": "Lr-qgocqqu5b"
      },
      "execution_count": null,
      "outputs": []
    },
    {
      "cell_type": "markdown",
      "source": [
        "#**TABLA**"
      ],
      "metadata": {
        "id": "WcYqWNWxrmU4"
      }
    },
    {
      "cell_type": "code",
      "source": [
        "tabla = pd.DataFrame()\n",
        "tabla['Año'] = nom\n",
        "tabla['Precision'] = pres\n",
        "tabla['Exactitud'] = exa\n",
        "tabla['Sensibilidad'] = sen\n",
        "tabla"
      ],
      "metadata": {
        "colab": {
          "base_uri": "https://localhost:8080/",
          "height": 175
        },
        "id": "s6C-tWKbqzw4",
        "outputId": "4b9e617f-005c-42f4-8698-e4c95e8dc42c"
      },
      "execution_count": null,
      "outputs": [
        {
          "output_type": "execute_result",
          "data": {
            "text/plain": [
              "    Año  Precision  Exactitud  Sensibilidad\n",
              "0  2020   0.441734   0.461615      0.718062\n",
              "1  2021   0.491779   0.490670      0.726269\n",
              "2  2022   0.463972   0.475452      0.723288\n",
              "3  2023   0.500000   0.550000      0.296296"
            ],
            "text/html": [
              "\n",
              "  <div id=\"df-9eb43808-a680-46c7-9c78-888829847948\">\n",
              "    <div class=\"colab-df-container\">\n",
              "      <div>\n",
              "<style scoped>\n",
              "    .dataframe tbody tr th:only-of-type {\n",
              "        vertical-align: middle;\n",
              "    }\n",
              "\n",
              "    .dataframe tbody tr th {\n",
              "        vertical-align: top;\n",
              "    }\n",
              "\n",
              "    .dataframe thead th {\n",
              "        text-align: right;\n",
              "    }\n",
              "</style>\n",
              "<table border=\"1\" class=\"dataframe\">\n",
              "  <thead>\n",
              "    <tr style=\"text-align: right;\">\n",
              "      <th></th>\n",
              "      <th>Año</th>\n",
              "      <th>Precision</th>\n",
              "      <th>Exactitud</th>\n",
              "      <th>Sensibilidad</th>\n",
              "    </tr>\n",
              "  </thead>\n",
              "  <tbody>\n",
              "    <tr>\n",
              "      <th>0</th>\n",
              "      <td>2020</td>\n",
              "      <td>0.441734</td>\n",
              "      <td>0.461615</td>\n",
              "      <td>0.718062</td>\n",
              "    </tr>\n",
              "    <tr>\n",
              "      <th>1</th>\n",
              "      <td>2021</td>\n",
              "      <td>0.491779</td>\n",
              "      <td>0.490670</td>\n",
              "      <td>0.726269</td>\n",
              "    </tr>\n",
              "    <tr>\n",
              "      <th>2</th>\n",
              "      <td>2022</td>\n",
              "      <td>0.463972</td>\n",
              "      <td>0.475452</td>\n",
              "      <td>0.723288</td>\n",
              "    </tr>\n",
              "    <tr>\n",
              "      <th>3</th>\n",
              "      <td>2023</td>\n",
              "      <td>0.500000</td>\n",
              "      <td>0.550000</td>\n",
              "      <td>0.296296</td>\n",
              "    </tr>\n",
              "  </tbody>\n",
              "</table>\n",
              "</div>\n",
              "      <button class=\"colab-df-convert\" onclick=\"convertToInteractive('df-9eb43808-a680-46c7-9c78-888829847948')\"\n",
              "              title=\"Convert this dataframe to an interactive table.\"\n",
              "              style=\"display:none;\">\n",
              "        \n",
              "  <svg xmlns=\"http://www.w3.org/2000/svg\" height=\"24px\"viewBox=\"0 0 24 24\"\n",
              "       width=\"24px\">\n",
              "    <path d=\"M0 0h24v24H0V0z\" fill=\"none\"/>\n",
              "    <path d=\"M18.56 5.44l.94 2.06.94-2.06 2.06-.94-2.06-.94-.94-2.06-.94 2.06-2.06.94zm-11 1L8.5 8.5l.94-2.06 2.06-.94-2.06-.94L8.5 2.5l-.94 2.06-2.06.94zm10 10l.94 2.06.94-2.06 2.06-.94-2.06-.94-.94-2.06-.94 2.06-2.06.94z\"/><path d=\"M17.41 7.96l-1.37-1.37c-.4-.4-.92-.59-1.43-.59-.52 0-1.04.2-1.43.59L10.3 9.45l-7.72 7.72c-.78.78-.78 2.05 0 2.83L4 21.41c.39.39.9.59 1.41.59.51 0 1.02-.2 1.41-.59l7.78-7.78 2.81-2.81c.8-.78.8-2.07 0-2.86zM5.41 20L4 18.59l7.72-7.72 1.47 1.35L5.41 20z\"/>\n",
              "  </svg>\n",
              "      </button>\n",
              "      \n",
              "  <style>\n",
              "    .colab-df-container {\n",
              "      display:flex;\n",
              "      flex-wrap:wrap;\n",
              "      gap: 12px;\n",
              "    }\n",
              "\n",
              "    .colab-df-convert {\n",
              "      background-color: #E8F0FE;\n",
              "      border: none;\n",
              "      border-radius: 50%;\n",
              "      cursor: pointer;\n",
              "      display: none;\n",
              "      fill: #1967D2;\n",
              "      height: 32px;\n",
              "      padding: 0 0 0 0;\n",
              "      width: 32px;\n",
              "    }\n",
              "\n",
              "    .colab-df-convert:hover {\n",
              "      background-color: #E2EBFA;\n",
              "      box-shadow: 0px 1px 2px rgba(60, 64, 67, 0.3), 0px 1px 3px 1px rgba(60, 64, 67, 0.15);\n",
              "      fill: #174EA6;\n",
              "    }\n",
              "\n",
              "    [theme=dark] .colab-df-convert {\n",
              "      background-color: #3B4455;\n",
              "      fill: #D2E3FC;\n",
              "    }\n",
              "\n",
              "    [theme=dark] .colab-df-convert:hover {\n",
              "      background-color: #434B5C;\n",
              "      box-shadow: 0px 1px 3px 1px rgba(0, 0, 0, 0.15);\n",
              "      filter: drop-shadow(0px 1px 2px rgba(0, 0, 0, 0.3));\n",
              "      fill: #FFFFFF;\n",
              "    }\n",
              "  </style>\n",
              "\n",
              "      <script>\n",
              "        const buttonEl =\n",
              "          document.querySelector('#df-9eb43808-a680-46c7-9c78-888829847948 button.colab-df-convert');\n",
              "        buttonEl.style.display =\n",
              "          google.colab.kernel.accessAllowed ? 'block' : 'none';\n",
              "\n",
              "        async function convertToInteractive(key) {\n",
              "          const element = document.querySelector('#df-9eb43808-a680-46c7-9c78-888829847948');\n",
              "          const dataTable =\n",
              "            await google.colab.kernel.invokeFunction('convertToInteractive',\n",
              "                                                     [key], {});\n",
              "          if (!dataTable) return;\n",
              "\n",
              "          const docLinkHtml = 'Like what you see? Visit the ' +\n",
              "            '<a target=\"_blank\" href=https://colab.research.google.com/notebooks/data_table.ipynb>data table notebook</a>'\n",
              "            + ' to learn more about interactive tables.';\n",
              "          element.innerHTML = '';\n",
              "          dataTable['output_type'] = 'display_data';\n",
              "          await google.colab.output.renderOutput(dataTable, element);\n",
              "          const docLink = document.createElement('div');\n",
              "          docLink.innerHTML = docLinkHtml;\n",
              "          element.appendChild(docLink);\n",
              "        }\n",
              "      </script>\n",
              "    </div>\n",
              "  </div>\n",
              "  "
            ]
          },
          "metadata": {},
          "execution_count": 584
        }
      ]
    }
  ]
}